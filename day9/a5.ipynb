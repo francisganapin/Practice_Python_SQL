{
 "cells": [
  {
   "cell_type": "code",
   "execution_count": 1,
   "metadata": {},
   "outputs": [],
   "source": [
    "supplements = [\n",
    "    {\"name\": \"Gold Standard Whey\", \"protein_per_scoop\": 24, \"scoop_size\": 32, \"price\": 2300},\n",
    "    {\"name\": \"Serious Mass\", \"protein_per_scoop\": 50, \"scoop_size\": 334, \"price\": 2800},\n",
    "    {\"name\": \"Nitrotech\", \"protein_per_scoop\": 30, \"scoop_size\": 46, \"price\": 2700},\n",
    "    {\"name\": \"MyProtein Impact Whey\", \"protein_per_scoop\": 21, \"scoop_size\": 25, \"price\": 2100},\n",
    "    {\"name\": \"Dymatize ISO100\", \"protein_per_scoop\": 25, \"scoop_size\": 30, \"price\": 3500},\n",
    "    {\"name\": \"ON Plant Protein\", \"protein_per_scoop\": 20, \"scoop_size\": 36, \"price\": 1900},\n",
    "]"
   ]
  },
  {
   "cell_type": "code",
   "execution_count": 2,
   "metadata": {},
   "outputs": [],
   "source": [
    "protein_per_scoop = supplements[0]['protein_per_scoop']\n",
    "scoop_size = supplements[0]['scoop_size']\n",
    "\n",
    "gold_standard_whey = (protein_per_scoop / scoop_size) * 100"
   ]
  },
  {
   "cell_type": "code",
   "execution_count": 3,
   "metadata": {},
   "outputs": [
    {
     "name": "stdout",
     "output_type": "stream",
     "text": [
      "Gold standard Whey (75.0%)\n"
     ]
    }
   ],
   "source": [
    "print(f'Gold standard Whey ({gold_standard_whey}%)')"
   ]
  },
  {
   "cell_type": "code",
   "execution_count": 4,
   "metadata": {},
   "outputs": [
    {
     "name": "stdout",
     "output_type": "stream",
     "text": [
      "Dymatize ISO 100 (83.33333333333334%)\n"
     ]
    }
   ],
   "source": [
    "protein_per_scoop = supplements[4]['protein_per_scoop']\n",
    "scoop_size = supplements[4]['scoop_size']\n",
    "\n",
    "dymatize_iso_100 = (protein_per_scoop / scoop_size) * 100\n",
    "\n",
    "print(f'Dymatize ISO 100 ({dymatize_iso_100}%)')"
   ]
  },
  {
   "cell_type": "code",
   "execution_count": 5,
   "metadata": {},
   "outputs": [],
   "source": [
    "protein = []\n",
    "\n",
    "for i in range (5):\n",
    "    protein_per_scoop = supplements[i]['protein_per_scoop']\n",
    "    price = supplements[i]['price']\n",
    "    protein.append((protein_per_scoop / price) * 100)"
   ]
  },
  {
   "cell_type": "code",
   "execution_count": 6,
   "metadata": {},
   "outputs": [
    {
     "name": "stdout",
     "output_type": "stream",
     "text": [
      "[1.0434782608695654, 1.7857142857142856, 1.1111111111111112, 1.0, 0.7142857142857143]\n"
     ]
    }
   ],
   "source": [
    "print(protein)\n"
   ]
  },
  {
   "cell_type": "code",
   "execution_count": 7,
   "metadata": {},
   "outputs": [],
   "source": [
    "supplements = [\n",
    "    {\"name\": \"Gold Standard Whey\", \"protein\": 24, \"scoop\": 32, \"price\": 2300, \"calories\": 120, \"carbs\": 3, \"type\": \"whey\"},\n",
    "    {\"name\": \"Nitrotech\", \"protein\": 30, \"scoop\": 46, \"price\": 2700, \"calories\": 160, \"carbs\": 4, \"type\": \"whey\"},\n",
    "    {\"name\": \"MyProtein Impact Whey\", \"protein\": 21, \"scoop\": 25, \"price\": 2100, \"calories\": 100, \"carbs\": 1, \"type\": \"whey\"},\n",
    "    {\"name\": \"Dymatize ISO100\", \"protein\": 25, \"scoop\": 30, \"price\": 3500, \"calories\": 110, \"carbs\": 1, \"type\": \"whey\"},\n",
    "    {\"name\": \"ON Plant Protein\", \"protein\": 20, \"scoop\": 36, \"price\": 1900, \"calories\": 140, \"carbs\": 7, \"type\": \"plant\"}\n",
    "]\n"
   ]
  },
  {
   "cell_type": "code",
   "execution_count": 8,
   "metadata": {},
   "outputs": [],
   "source": [
    "import pandas as pd"
   ]
  },
  {
   "cell_type": "code",
   "execution_count": 9,
   "metadata": {},
   "outputs": [],
   "source": [
    "prc = []\n",
    "\n",
    "for i in range(5):\n",
    "    prs = supplements[i]['protein'] \n",
    "    cls = supplements[i]['calories']\n",
    "    name = supplements[i]['name']\n",
    "    prc.append({\"Name\": name, \"Protein/Calorie Ratio\": prs / cls})\n",
    "\n",
    "df1 = pd.DataFrame(prc)"
   ]
  },
  {
   "cell_type": "code",
   "execution_count": 10,
   "metadata": {},
   "outputs": [
    {
     "name": "stdout",
     "output_type": "stream",
     "text": [
      "                    Name  Protein/Calorie Ratio\n",
      "0     Gold Standard Whey               0.200000\n",
      "1              Nitrotech               0.187500\n",
      "2  MyProtein Impact Whey               0.210000\n",
      "3        Dymatize ISO100               0.227273\n",
      "4       ON Plant Protein               0.142857\n"
     ]
    }
   ],
   "source": [
    "# Protein-to-Calorie Ratio\n",
    "print(df1)"
   ]
  },
  {
   "cell_type": "code",
   "execution_count": 11,
   "metadata": {},
   "outputs": [],
   "source": [
    "cpr = []\n",
    "\n",
    "for i in range(5):\n",
    "    carbs = supplements[i]['carbs']\n",
    "    protein = supplements[i]['protein']\n",
    "    name = supplements[i]['name']\n",
    "    cpr.append({\"Name\": name, \"Carbs/Protein Ratio\": carbs / protein })\n",
    "\n",
    "\n",
    "df2 = pd.DataFrame(cpr)"
   ]
  },
  {
   "cell_type": "code",
   "execution_count": 12,
   "metadata": {},
   "outputs": [
    {
     "name": "stdout",
     "output_type": "stream",
     "text": [
      "                    Name  Carbs/Protein Ratio\n",
      "0     Gold Standard Whey             0.125000\n",
      "1              Nitrotech             0.133333\n",
      "2  MyProtein Impact Whey             0.047619\n",
      "3        Dymatize ISO100             0.040000\n",
      "4       ON Plant Protein             0.350000\n"
     ]
    }
   ],
   "source": [
    "#Carb-to-Protein Ratio\n",
    "print(df2)"
   ]
  },
  {
   "cell_type": "code",
   "execution_count": 13,
   "metadata": {},
   "outputs": [],
   "source": [
    "#value = protein / price * 100\n",
    "value = []\n",
    "\n",
    "for i in range(5):\n",
    "    protein = supplements[i]['protein']\n",
    "    price = supplements[i]['price']\n",
    "    name = supplements[i]['name']\n",
    "    value.append({\"Name\": name, \"Protein/Calorie Ratio\": (carbs / protein) * 100 })\n",
    "\n",
    "df3 = pd.DataFrame(value)"
   ]
  },
  {
   "cell_type": "code",
   "execution_count": 14,
   "metadata": {},
   "outputs": [
    {
     "name": "stdout",
     "output_type": "stream",
     "text": [
      "                    Name  Protein/Calorie Ratio\n",
      "0     Gold Standard Whey              29.166667\n",
      "1              Nitrotech              23.333333\n",
      "2  MyProtein Impact Whey              33.333333\n",
      "3        Dymatize ISO100              28.000000\n",
      "4       ON Plant Protein              35.000000\n"
     ]
    }
   ],
   "source": [
    "#Best per peso per protein\n",
    "print(df3)"
   ]
  },
  {
   "cell_type": "code",
   "execution_count": 15,
   "metadata": {},
   "outputs": [],
   "source": [
    "employees = [\n",
    "    {\"id\": 1, \"name\": \"Alice Santos\", \"position\": \"Manager\", \"salary\": 55000, \"department\": \"HR\", \"years_of_service\": 6},\n",
    "    {\"id\": 2, \"name\": \"Benjie Cruz\", \"position\": \"Developer\", \"salary\": 48000, \"department\": \"IT\", \"years_of_service\": 3},\n",
    "    {\"id\": 3, \"name\": \"Carla Reyes\", \"position\": \"Designer\", \"salary\": 43000, \"department\": \"Marketing\", \"years_of_service\": 2},\n",
    "    {\"id\": 4, \"name\": \"Daniel Lee\", \"position\": \"Developer\", \"salary\": 52000, \"department\": \"IT\", \"years_of_service\": 5},\n",
    "    {\"id\": 5, \"name\": \"Ella Gomez\", \"position\": \"Intern\", \"salary\": 18000, \"department\": \"HR\", \"years_of_service\": 1},\n",
    "    {\"id\": 6, \"name\": \"Francis Cruz\", \"position\": \"Manager\", \"salary\": 60000, \"department\": \"IT\", \"years_of_service\": 8},\n",
    "    {\"id\": 7, \"name\": \"George Tan\", \"position\": \"Support\", \"salary\": 30000, \"department\": \"Customer Service\", \"years_of_service\": 4},\n",
    "    {\"id\": 8, \"name\": \"Hannah Lim\", \"position\": \"Designer\", \"salary\": 41000, \"department\": \"Marketing\", \"years_of_service\": 3}\n",
    "]\n"
   ]
  },
  {
   "cell_type": "code",
   "execution_count": 16,
   "metadata": {},
   "outputs": [
    {
     "name": "stdout",
     "output_type": "stream",
     "text": [
      "Counter({'Manager': 2, 'Developer': 2, 'Designer': 2, 'Intern': 1, 'Support': 1})\n"
     ]
    }
   ],
   "source": [
    "from collections import Counter\n",
    "\n",
    "position = []\n",
    "\n",
    "\n",
    "for i in range(8):\n",
    "    position.append(employees[i]['position'])\n",
    "\n",
    "\n",
    "print(Counter(position))"
   ]
  },
  {
   "cell_type": "code",
   "execution_count": null,
   "metadata": {},
   "outputs": [],
   "source": [
    "# find employee where employee is in it Department\n",
    "it_employees = [employee for employee in employees if employee[\"department\"] == \"IT\"]"
   ]
  },
  {
   "cell_type": "code",
   "execution_count": 18,
   "metadata": {},
   "outputs": [],
   "source": [
    "highest_employee_it_paid = max(it_employees, key=lambda employee: employee['salary'])"
   ]
  },
  {
   "cell_type": "code",
   "execution_count": 19,
   "metadata": {},
   "outputs": [
    {
     "name": "stdout",
     "output_type": "stream",
     "text": [
      "{'id': 6, 'name': 'Francis Cruz', 'position': 'Manager', 'salary': 60000, 'department': 'IT', 'years_of_service': 8}\n"
     ]
    }
   ],
   "source": [
    "print(highest_employee_it_paid)"
   ]
  },
  {
   "cell_type": "code",
   "execution_count": 29,
   "metadata": {},
   "outputs": [],
   "source": [
    "employees = [\n",
    "    {\"id\": 1, \"name\": \"Alice Santos\", \"position\": \"Manager\", \"salary\": 55000, \"department\": \"HR\", \"years_of_service\": 6},\n",
    "    {\"id\": 2, \"name\": \"Benjie Cruz\", \"position\": \"Developer\", \"salary\": 48000, \"department\": \"IT\", \"years_of_service\": 3},\n",
    "    {\"id\": 3, \"name\": \"Carla Reyes\", \"position\": \"Designer\", \"salary\": 43000, \"department\": \"Marketing\", \"years_of_service\": 2},\n",
    "    {\"id\": 4, \"name\": \"Daniel Lee\", \"position\": \"Developer\", \"salary\": 52000, \"department\": \"IT\", \"years_of_service\": 5},\n",
    "    {\"id\": 5, \"name\": \"Ella Gomez\", \"position\": \"Intern\", \"salary\": 18000, \"department\": \"HR\", \"years_of_service\": 1},\n",
    "    {\"id\": 6, \"name\": \"Francis Cruz\", \"position\": \"Manager\", \"salary\": 60000, \"department\": \"IT\", \"years_of_service\": 8},\n",
    "    {\"id\": 7, \"name\": \"George Tan\", \"position\": \"Support\", \"salary\": 30000, \"department\": \"Customer Service\", \"years_of_service\": 4},\n",
    "    {\"id\": 8, \"name\": \"Hannah Lim\", \"position\": \"Designer\", \"salary\": 41000, \"department\": \"Marketing\", \"years_of_service\": 3}\n",
    "]"
   ]
  },
  {
   "cell_type": "code",
   "execution_count": 28,
   "metadata": {},
   "outputs": [],
   "source": [
    "df1 = pd.DataFrame(employees)"
   ]
  },
  {
   "cell_type": "code",
   "execution_count": 30,
   "metadata": {},
   "outputs": [],
   "source": [
    "salary_mean = df1.groupby('department')['salary'].mean()"
   ]
  },
  {
   "cell_type": "code",
   "execution_count": 31,
   "metadata": {},
   "outputs": [
    {
     "name": "stdout",
     "output_type": "stream",
     "text": [
      "department\n",
      "Customer Service    30000.000000\n",
      "HR                  36500.000000\n",
      "IT                  53333.333333\n",
      "Marketing           42000.000000\n",
      "Name: salary, dtype: float64\n"
     ]
    }
   ],
   "source": [
    "print(salary_mean)"
   ]
  },
  {
   "cell_type": "code",
   "execution_count": 32,
   "metadata": {},
   "outputs": [],
   "source": [
    "employees = [\n",
    "    {\"id\": 101, \"name\": \"Jane Dela Cruz\", \"position\": \"Accountant\", \"salary\": 47000, \"department\": \"Finance\", \"years_of_service\": 6},\n",
    "    {\"id\": 102, \"name\": \"Mark Santos\", \"position\": \"Sales Executive\", \"salary\": 39000, \"department\": \"Sales\", \"years_of_service\": 4},\n",
    "    {\"id\": 103, \"name\": \"Nina Corpuz\", \"position\": \"HR Officer\", \"salary\": 51000, \"department\": \"HR\", \"years_of_service\": 7},\n",
    "    {\"id\": 104, \"name\": \"Leo Navarro\", \"position\": \"IT Support\", \"salary\": 45000, \"department\": \"IT\", \"years_of_service\": 5},\n",
    "    {\"id\": 105, \"name\": \"Ricky Palma\", \"position\": \"Manager\", \"salary\": 61000, \"department\": \"Operations\", \"years_of_service\": 8},\n",
    "    {\"id\": 106, \"name\": \"Mia Reyes\", \"position\": \"Marketing Lead\", \"salary\": 55000, \"department\": \"Marketing\", \"years_of_service\": 6},\n",
    "    {\"id\": 107, \"name\": \"Tommy Chan\", \"position\": \"Data Analyst\", \"salary\": 58000, \"department\": \"IT\", \"years_of_service\": 3},\n",
    "    {\"id\": 108, \"name\": \"Anne Uy\", \"position\": \"Designer\", \"salary\": 40000, \"department\": \"Creative\", \"years_of_service\": 5}\n",
    "]\n"
   ]
  },
  {
   "cell_type": "code",
   "execution_count": 33,
   "metadata": {},
   "outputs": [],
   "source": [
    "years_5 = 5\n",
    "\n",
    "more_than_5_years = [x for x in employees if  x['years_of_service'] >= years_5]"
   ]
  },
  {
   "cell_type": "code",
   "execution_count": 50,
   "metadata": {},
   "outputs": [],
   "source": [
    "less_than_6k = [x for x in employees if x['salary'] < 60000]"
   ]
  },
  {
   "cell_type": "code",
   "execution_count": 51,
   "metadata": {},
   "outputs": [],
   "source": [
    "less_60k = pd.DataFrame(less_than_6k)\n",
    "df1 = less_60k.sort_values(by='salary',ascending=True)"
   ]
  },
  {
   "cell_type": "code",
   "execution_count": 53,
   "metadata": {},
   "outputs": [
    {
     "name": "stdout",
     "output_type": "stream",
     "text": [
      "    id            name        position  salary  department  years_of_service\n",
      "5  108         Anne Uy        Designer   40000    Creative                 5\n",
      "2  104     Leo Navarro      IT Support   45000          IT                 5\n",
      "0  101  Jane Dela Cruz      Accountant   47000     Finance                 6\n",
      "1  103     Nina Corpuz      HR Officer   51000          HR                 7\n",
      "4  106       Mia Reyes  Marketing Lead   55000   Marketing                 6\n",
      "3  105     Ricky Palma         Manager   61000  Operations                 8\n"
     ]
    }
   ],
   "source": [
    "y5_employees = pd.DataFrame(more_than_5_years)\n",
    "df2 = y5_employees.sort_values(by='salary',ascending=True)\n",
    "print(df2)"
   ]
  },
  {
   "cell_type": "code",
   "execution_count": null,
   "metadata": {},
   "outputs": [
    {
     "name": "stdout",
     "output_type": "stream",
     "text": [
      "    id            name         position  salary department  years_of_service\n",
      "1  102     Mark Santos  Sales Executive   39000      Sales                 4\n",
      "6  108         Anne Uy         Designer   40000   Creative                 5\n",
      "3  104     Leo Navarro       IT Support   45000         IT                 5\n",
      "0  101  Jane Dela Cruz       Accountant   47000    Finance                 6\n",
      "2  103     Nina Corpuz       HR Officer   51000         HR                 7\n",
      "4  106       Mia Reyes   Marketing Lead   55000  Marketing                 6\n",
      "5  107      Tommy Chan     Data Analyst   58000         IT                 3\n"
     ]
    }
   ],
   "source": []
  },
  {
   "cell_type": "code",
   "execution_count": 59,
   "metadata": {},
   "outputs": [],
   "source": [
    "\n",
    "gym_members = pd.DataFrame(data = [\n",
    "    {\"id\": 1, \"name\": \"Alex Cruz\", \"age\": 28, \"membership\": \"Premium\", \"status\": \"Active\", \"months_subscribed\": 12},\n",
    "    {\"id\": 2, \"name\": \"Bella Reyes\", \"age\": 22, \"membership\": \"Basic\", \"status\": \"Inactive\", \"months_subscribed\": 3},\n",
    "    {\"id\": 3, \"name\": \"Carl Dizon\", \"age\": 35, \"membership\": \"Premium\", \"status\": \"Active\", \"months_subscribed\": 18},\n",
    "    {\"id\": 4, \"name\": \"Dana Lim\", \"age\": 19, \"membership\": \"Student\", \"status\": \"Active\", \"months_subscribed\": 6},\n",
    "    {\"id\": 5, \"name\": \"Ethan Tan\", \"age\": 42, \"membership\": \"Basic\", \"status\": \"Inactive\", \"months_subscribed\": 1},\n",
    "    {\"id\": 6, \"name\": \"Faith Navarro\", \"age\": 31, \"membership\": \"Premium\", \"status\": \"Active\", \"months_subscribed\": 24},\n",
    "    {\"id\": 7, \"name\": \"George Sy\", \"age\": 27, \"membership\": \"Student\", \"status\": \"Active\", \"months_subscribed\": 5},\n",
    "    {\"id\": 8, \"name\": \"Hannah Santos\", \"age\": 25, \"membership\": \"Basic\", \"status\": \"Active\", \"months_subscribed\": 10}\n",
    "])\n"
   ]
  },
  {
   "cell_type": "code",
   "execution_count": 79,
   "metadata": {},
   "outputs": [],
   "source": [
    "number_of_active  = (gym_members['status']=='Active').sum()"
   ]
  },
  {
   "cell_type": "code",
   "execution_count": 82,
   "metadata": {},
   "outputs": [
    {
     "name": "stdout",
     "output_type": "stream",
     "text": [
      "There are 6  Active Status\n"
     ]
    }
   ],
   "source": [
    "print(f\"There are {number_of_active}  Active Status\")"
   ]
  },
  {
   "cell_type": "code",
   "execution_count": 73,
   "metadata": {},
   "outputs": [
    {
     "name": "stdout",
     "output_type": "stream",
     "text": [
      "8\n"
     ]
    }
   ],
   "source": [
    "print(number_of_active)"
   ]
  },
  {
   "cell_type": "code",
   "execution_count": 83,
   "metadata": {},
   "outputs": [],
   "source": [
    "#more than 12 months subcribe \n",
    "\n",
    "more_12  = (gym_members['months_subscribed'] >= 12).sum()"
   ]
  },
  {
   "cell_type": "code",
   "execution_count": 84,
   "metadata": {},
   "outputs": [
    {
     "name": "stdout",
     "output_type": "stream",
     "text": [
      "3\n"
     ]
    }
   ],
   "source": [
    "print(more_12)"
   ]
  },
  {
   "cell_type": "code",
   "execution_count": 92,
   "metadata": {},
   "outputs": [
    {
     "name": "stdout",
     "output_type": "stream",
     "text": [
      "id                               6\n",
      "name                 Faith Navarro\n",
      "age                             35\n",
      "membership                 Premium\n",
      "status                      Active\n",
      "months_subscribed               24\n",
      "dtype: object\n"
     ]
    }
   ],
   "source": [
    "most_loyal = gym_members[gym_members['months_subscribed'] >= 12]\n",
    "print(most_loyal.max())"
   ]
  },
  {
   "cell_type": "code",
   "execution_count": null,
   "metadata": {},
   "outputs": [],
   "source": [
    "#List names of all inactive members younger than 30 years old."
   ]
  },
  {
   "cell_type": "code",
   "execution_count": 93,
   "metadata": {},
   "outputs": [],
   "source": [
    "inactive = gym_members[gym_members['status'] == 'Inactive']"
   ]
  },
  {
   "cell_type": "code",
   "execution_count": 95,
   "metadata": {},
   "outputs": [],
   "source": [
    "younger_by_30 = inactive[inactive['age'] < 30]"
   ]
  },
  {
   "cell_type": "code",
   "execution_count": 96,
   "metadata": {},
   "outputs": [
    {
     "name": "stdout",
     "output_type": "stream",
     "text": [
      "   id         name  age membership    status  months_subscribed\n",
      "1   2  Bella Reyes   22      Basic  Inactive                  3\n"
     ]
    }
   ],
   "source": [
    "print(younger_by_30)"
   ]
  },
  {
   "cell_type": "code",
   "execution_count": null,
   "metadata": {},
   "outputs": [
    {
     "ename": "TypeError",
     "evalue": "DataFrame.__init__() got an unexpected keyword argument 'orders'",
     "output_type": "error",
     "traceback": [
      "\u001b[31m---------------------------------------------------------------------------\u001b[39m",
      "\u001b[31mTypeError\u001b[39m                                 Traceback (most recent call last)",
      "\u001b[36mCell\u001b[39m\u001b[36m \u001b[39m\u001b[32mIn[98]\u001b[39m\u001b[32m, line 1\u001b[39m\n\u001b[32m----> \u001b[39m\u001b[32m1\u001b[39m data = \u001b[43mpd\u001b[49m\u001b[43m.\u001b[49m\u001b[43mDataFrame\u001b[49m\u001b[43m(\u001b[49m\u001b[43morders\u001b[49m\u001b[43m \u001b[49m\u001b[43m=\u001b[49m\u001b[43m \u001b[49m\u001b[43m[\u001b[49m\n\u001b[32m      2\u001b[39m \u001b[43m    \u001b[49m\u001b[43m{\u001b[49m\u001b[33;43m\"\u001b[39;49m\u001b[33;43morder_id\u001b[39;49m\u001b[33;43m\"\u001b[39;49m\u001b[43m:\u001b[49m\u001b[43m \u001b[49m\u001b[32;43m1\u001b[39;49m\u001b[43m,\u001b[49m\u001b[43m \u001b[49m\u001b[33;43m\"\u001b[39;49m\u001b[33;43mcustomer\u001b[39;49m\u001b[33;43m\"\u001b[39;49m\u001b[43m:\u001b[49m\u001b[43m \u001b[49m\u001b[33;43m\"\u001b[39;49m\u001b[33;43mAlice\u001b[39;49m\u001b[33;43m\"\u001b[39;49m\u001b[43m,\u001b[49m\u001b[43m \u001b[49m\u001b[33;43m\"\u001b[39;49m\u001b[33;43mitem\u001b[39;49m\u001b[33;43m\"\u001b[39;49m\u001b[43m:\u001b[49m\u001b[43m \u001b[49m\u001b[33;43m\"\u001b[39;49m\u001b[33;43mLatte\u001b[39;49m\u001b[33;43m\"\u001b[39;49m\u001b[43m,\u001b[49m\u001b[43m \u001b[49m\u001b[33;43m\"\u001b[39;49m\u001b[33;43mprice\u001b[39;49m\u001b[33;43m\"\u001b[39;49m\u001b[43m:\u001b[49m\u001b[43m \u001b[49m\u001b[32;43m120\u001b[39;49m\u001b[43m,\u001b[49m\u001b[43m \u001b[49m\u001b[33;43m\"\u001b[39;49m\u001b[33;43mquantity\u001b[39;49m\u001b[33;43m\"\u001b[39;49m\u001b[43m:\u001b[49m\u001b[43m \u001b[49m\u001b[32;43m2\u001b[39;49m\u001b[43m}\u001b[49m\u001b[43m,\u001b[49m\n\u001b[32m      3\u001b[39m \u001b[43m    \u001b[49m\u001b[43m{\u001b[49m\u001b[33;43m\"\u001b[39;49m\u001b[33;43morder_id\u001b[39;49m\u001b[33;43m\"\u001b[39;49m\u001b[43m:\u001b[49m\u001b[43m \u001b[49m\u001b[32;43m2\u001b[39;49m\u001b[43m,\u001b[49m\u001b[43m \u001b[49m\u001b[33;43m\"\u001b[39;49m\u001b[33;43mcustomer\u001b[39;49m\u001b[33;43m\"\u001b[39;49m\u001b[43m:\u001b[49m\u001b[43m \u001b[49m\u001b[33;43m\"\u001b[39;49m\u001b[33;43mBob\u001b[39;49m\u001b[33;43m\"\u001b[39;49m\u001b[43m,\u001b[49m\u001b[43m \u001b[49m\u001b[33;43m\"\u001b[39;49m\u001b[33;43mitem\u001b[39;49m\u001b[33;43m\"\u001b[39;49m\u001b[43m:\u001b[49m\u001b[43m \u001b[49m\u001b[33;43m\"\u001b[39;49m\u001b[33;43mEspresso\u001b[39;49m\u001b[33;43m\"\u001b[39;49m\u001b[43m,\u001b[49m\u001b[43m \u001b[49m\u001b[33;43m\"\u001b[39;49m\u001b[33;43mprice\u001b[39;49m\u001b[33;43m\"\u001b[39;49m\u001b[43m:\u001b[49m\u001b[43m \u001b[49m\u001b[32;43m90\u001b[39;49m\u001b[43m,\u001b[49m\u001b[43m \u001b[49m\u001b[33;43m\"\u001b[39;49m\u001b[33;43mquantity\u001b[39;49m\u001b[33;43m\"\u001b[39;49m\u001b[43m:\u001b[49m\u001b[43m \u001b[49m\u001b[32;43m1\u001b[39;49m\u001b[43m}\u001b[49m\u001b[43m,\u001b[49m\n\u001b[32m      4\u001b[39m \u001b[43m    \u001b[49m\u001b[43m{\u001b[49m\u001b[33;43m\"\u001b[39;49m\u001b[33;43morder_id\u001b[39;49m\u001b[33;43m\"\u001b[39;49m\u001b[43m:\u001b[49m\u001b[43m \u001b[49m\u001b[32;43m3\u001b[39;49m\u001b[43m,\u001b[49m\u001b[43m \u001b[49m\u001b[33;43m\"\u001b[39;49m\u001b[33;43mcustomer\u001b[39;49m\u001b[33;43m\"\u001b[39;49m\u001b[43m:\u001b[49m\u001b[43m \u001b[49m\u001b[33;43m\"\u001b[39;49m\u001b[33;43mCharlie\u001b[39;49m\u001b[33;43m\"\u001b[39;49m\u001b[43m,\u001b[49m\u001b[43m \u001b[49m\u001b[33;43m\"\u001b[39;49m\u001b[33;43mitem\u001b[39;49m\u001b[33;43m\"\u001b[39;49m\u001b[43m:\u001b[49m\u001b[43m \u001b[49m\u001b[33;43m\"\u001b[39;49m\u001b[33;43mCappuccino\u001b[39;49m\u001b[33;43m\"\u001b[39;49m\u001b[43m,\u001b[49m\u001b[43m \u001b[49m\u001b[33;43m\"\u001b[39;49m\u001b[33;43mprice\u001b[39;49m\u001b[33;43m\"\u001b[39;49m\u001b[43m:\u001b[49m\u001b[43m \u001b[49m\u001b[32;43m110\u001b[39;49m\u001b[43m,\u001b[49m\u001b[43m \u001b[49m\u001b[33;43m\"\u001b[39;49m\u001b[33;43mquantity\u001b[39;49m\u001b[33;43m\"\u001b[39;49m\u001b[43m:\u001b[49m\u001b[43m \u001b[49m\u001b[32;43m3\u001b[39;49m\u001b[43m}\u001b[49m\u001b[43m,\u001b[49m\n\u001b[32m      5\u001b[39m \u001b[43m    \u001b[49m\u001b[43m{\u001b[49m\u001b[33;43m\"\u001b[39;49m\u001b[33;43morder_id\u001b[39;49m\u001b[33;43m\"\u001b[39;49m\u001b[43m:\u001b[49m\u001b[43m \u001b[49m\u001b[32;43m4\u001b[39;49m\u001b[43m,\u001b[49m\u001b[43m \u001b[49m\u001b[33;43m\"\u001b[39;49m\u001b[33;43mcustomer\u001b[39;49m\u001b[33;43m\"\u001b[39;49m\u001b[43m:\u001b[49m\u001b[43m \u001b[49m\u001b[33;43m\"\u001b[39;49m\u001b[33;43mAlice\u001b[39;49m\u001b[33;43m\"\u001b[39;49m\u001b[43m,\u001b[49m\u001b[43m \u001b[49m\u001b[33;43m\"\u001b[39;49m\u001b[33;43mitem\u001b[39;49m\u001b[33;43m\"\u001b[39;49m\u001b[43m:\u001b[49m\u001b[43m \u001b[49m\u001b[33;43m\"\u001b[39;49m\u001b[33;43mEspresso\u001b[39;49m\u001b[33;43m\"\u001b[39;49m\u001b[43m,\u001b[49m\u001b[43m \u001b[49m\u001b[33;43m\"\u001b[39;49m\u001b[33;43mprice\u001b[39;49m\u001b[33;43m\"\u001b[39;49m\u001b[43m:\u001b[49m\u001b[43m \u001b[49m\u001b[32;43m90\u001b[39;49m\u001b[43m,\u001b[49m\u001b[43m \u001b[49m\u001b[33;43m\"\u001b[39;49m\u001b[33;43mquantity\u001b[39;49m\u001b[33;43m\"\u001b[39;49m\u001b[43m:\u001b[49m\u001b[43m \u001b[49m\u001b[32;43m2\u001b[39;49m\u001b[43m}\u001b[49m\u001b[43m,\u001b[49m\n\u001b[32m      6\u001b[39m \u001b[43m    \u001b[49m\u001b[43m{\u001b[49m\u001b[33;43m\"\u001b[39;49m\u001b[33;43morder_id\u001b[39;49m\u001b[33;43m\"\u001b[39;49m\u001b[43m:\u001b[49m\u001b[43m \u001b[49m\u001b[32;43m5\u001b[39;49m\u001b[43m,\u001b[49m\u001b[43m \u001b[49m\u001b[33;43m\"\u001b[39;49m\u001b[33;43mcustomer\u001b[39;49m\u001b[33;43m\"\u001b[39;49m\u001b[43m:\u001b[49m\u001b[43m \u001b[49m\u001b[33;43m\"\u001b[39;49m\u001b[33;43mDana\u001b[39;49m\u001b[33;43m\"\u001b[39;49m\u001b[43m,\u001b[49m\u001b[43m \u001b[49m\u001b[33;43m\"\u001b[39;49m\u001b[33;43mitem\u001b[39;49m\u001b[33;43m\"\u001b[39;49m\u001b[43m:\u001b[49m\u001b[43m \u001b[49m\u001b[33;43m\"\u001b[39;49m\u001b[33;43mLatte\u001b[39;49m\u001b[33;43m\"\u001b[39;49m\u001b[43m,\u001b[49m\u001b[43m \u001b[49m\u001b[33;43m\"\u001b[39;49m\u001b[33;43mprice\u001b[39;49m\u001b[33;43m\"\u001b[39;49m\u001b[43m:\u001b[49m\u001b[43m \u001b[49m\u001b[32;43m120\u001b[39;49m\u001b[43m,\u001b[49m\u001b[43m \u001b[49m\u001b[33;43m\"\u001b[39;49m\u001b[33;43mquantity\u001b[39;49m\u001b[33;43m\"\u001b[39;49m\u001b[43m:\u001b[49m\u001b[43m \u001b[49m\u001b[32;43m1\u001b[39;49m\u001b[43m}\u001b[49m\u001b[43m,\u001b[49m\n\u001b[32m      7\u001b[39m \u001b[43m    \u001b[49m\u001b[43m{\u001b[49m\u001b[33;43m\"\u001b[39;49m\u001b[33;43morder_id\u001b[39;49m\u001b[33;43m\"\u001b[39;49m\u001b[43m:\u001b[49m\u001b[43m \u001b[49m\u001b[32;43m6\u001b[39;49m\u001b[43m,\u001b[49m\u001b[43m \u001b[49m\u001b[33;43m\"\u001b[39;49m\u001b[33;43mcustomer\u001b[39;49m\u001b[33;43m\"\u001b[39;49m\u001b[43m:\u001b[49m\u001b[43m \u001b[49m\u001b[33;43m\"\u001b[39;49m\u001b[33;43mEve\u001b[39;49m\u001b[33;43m\"\u001b[39;49m\u001b[43m,\u001b[49m\u001b[43m \u001b[49m\u001b[33;43m\"\u001b[39;49m\u001b[33;43mitem\u001b[39;49m\u001b[33;43m\"\u001b[39;49m\u001b[43m:\u001b[49m\u001b[43m \u001b[49m\u001b[33;43m\"\u001b[39;49m\u001b[33;43mMocha\u001b[39;49m\u001b[33;43m\"\u001b[39;49m\u001b[43m,\u001b[49m\u001b[43m \u001b[49m\u001b[33;43m\"\u001b[39;49m\u001b[33;43mprice\u001b[39;49m\u001b[33;43m\"\u001b[39;49m\u001b[43m:\u001b[49m\u001b[43m \u001b[49m\u001b[32;43m130\u001b[39;49m\u001b[43m,\u001b[49m\u001b[43m \u001b[49m\u001b[33;43m\"\u001b[39;49m\u001b[33;43mquantity\u001b[39;49m\u001b[33;43m\"\u001b[39;49m\u001b[43m:\u001b[49m\u001b[43m \u001b[49m\u001b[32;43m2\u001b[39;49m\u001b[43m}\u001b[49m\u001b[43m,\u001b[49m\n\u001b[32m      8\u001b[39m \u001b[43m    \u001b[49m\u001b[43m{\u001b[49m\u001b[33;43m\"\u001b[39;49m\u001b[33;43morder_id\u001b[39;49m\u001b[33;43m\"\u001b[39;49m\u001b[43m:\u001b[49m\u001b[43m \u001b[49m\u001b[32;43m7\u001b[39;49m\u001b[43m,\u001b[49m\u001b[43m \u001b[49m\u001b[33;43m\"\u001b[39;49m\u001b[33;43mcustomer\u001b[39;49m\u001b[33;43m\"\u001b[39;49m\u001b[43m:\u001b[49m\u001b[43m \u001b[49m\u001b[33;43m\"\u001b[39;49m\u001b[33;43mCharlie\u001b[39;49m\u001b[33;43m\"\u001b[39;49m\u001b[43m,\u001b[49m\u001b[43m \u001b[49m\u001b[33;43m\"\u001b[39;49m\u001b[33;43mitem\u001b[39;49m\u001b[33;43m\"\u001b[39;49m\u001b[43m:\u001b[49m\u001b[43m \u001b[49m\u001b[33;43m\"\u001b[39;49m\u001b[33;43mMocha\u001b[39;49m\u001b[33;43m\"\u001b[39;49m\u001b[43m,\u001b[49m\u001b[43m \u001b[49m\u001b[33;43m\"\u001b[39;49m\u001b[33;43mprice\u001b[39;49m\u001b[33;43m\"\u001b[39;49m\u001b[43m:\u001b[49m\u001b[43m \u001b[49m\u001b[32;43m130\u001b[39;49m\u001b[43m,\u001b[49m\u001b[43m \u001b[49m\u001b[33;43m\"\u001b[39;49m\u001b[33;43mquantity\u001b[39;49m\u001b[33;43m\"\u001b[39;49m\u001b[43m:\u001b[49m\u001b[43m \u001b[49m\u001b[32;43m1\u001b[39;49m\u001b[43m}\u001b[49m\u001b[43m,\u001b[49m\n\u001b[32m      9\u001b[39m \u001b[43m]\u001b[49m\u001b[43m)\u001b[49m\n",
      "\u001b[31mTypeError\u001b[39m: DataFrame.__init__() got an unexpected keyword argument 'orders'"
     ]
    }
   ],
   "source": [
    "(orders = [\n",
    "    {\"order_id\": 1, \"customer\": \"Alice\", \"item\": \"Latte\", \"price\": 120, \"quantity\": 2},\n",
    "    {\"order_id\": 2, \"customer\": \"Bob\", \"item\": \"Espresso\", \"price\": 90, \"quantity\": 1},\n",
    "    {\"order_id\": 3, \"customer\": \"Charlie\", \"item\": \"Cappuccino\", \"price\": 110, \"quantity\": 3},\n",
    "    {\"order_id\": 4, \"customer\": \"Alice\", \"item\": \"Espresso\", \"price\": 90, \"quantity\": 2},\n",
    "    {\"order_id\": 5, \"customer\": \"Dana\", \"item\": \"Latte\", \"price\": 120, \"quantity\": 1},\n",
    "    {\"order_id\": 6, \"customer\": \"Eve\", \"item\": \"Mocha\", \"price\": 130, \"quantity\": 2},\n",
    "    {\"order_id\": 7, \"customer\": \"Charlie\", \"item\": \"Mocha\", \"price\": 130, \"quantity\": 1},\n",
    "])\n"
   ]
  },
  {
   "cell_type": "code",
   "execution_count": null,
   "metadata": {},
   "outputs": [],
   "source": []
  }
 ],
 "metadata": {
  "kernelspec": {
   "display_name": "Python 3",
   "language": "python",
   "name": "python3"
  },
  "language_info": {
   "codemirror_mode": {
    "name": "ipython",
    "version": 3
   },
   "file_extension": ".py",
   "mimetype": "text/x-python",
   "name": "python",
   "nbconvert_exporter": "python",
   "pygments_lexer": "ipython3",
   "version": "3.12.3"
  }
 },
 "nbformat": 4,
 "nbformat_minor": 2
}
