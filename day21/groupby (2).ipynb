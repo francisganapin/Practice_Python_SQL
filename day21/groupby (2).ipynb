{
 "cells": [
  {
   "cell_type": "code",
   "execution_count": 1,
   "metadata": {},
   "outputs": [],
   "source": [
    "import pandas as pd"
   ]
  },
  {
   "cell_type": "code",
   "execution_count": 4,
   "metadata": {},
   "outputs": [
    {
     "name": "stdout",
     "output_type": "stream",
     "text": [
      "department\n",
      "HR       50000.0\n",
      "IT       75000.0\n",
      "Sales    55000.0\n",
      "Name: salary, dtype: float64\n"
     ]
    }
   ],
   "source": [
    "df = pd.DataFrame({\n",
    "    'department':['Sales','Sales','IT','IT','HR'],\n",
    "    'employee':['Alice','Bob','Charlie','David','Eve'],\n",
    "    'salary':[50000,60000,70000,80000,50000]\n",
    "})\n",
    "\n",
    "grouped = df.groupby('department')\n",
    "print(grouped['salary'].mean())"
   ]
  },
  {
   "cell_type": "code",
   "execution_count": 5,
   "metadata": {},
   "outputs": [
    {
     "data": {
      "text/plain": [
       "department  employee\n",
       "HR          Eve         50000\n",
       "IT          Charlie     70000\n",
       "            David       80000\n",
       "Sales       Alice       50000\n",
       "            Bob         60000\n",
       "Name: salary, dtype: int64"
      ]
     },
     "execution_count": 5,
     "metadata": {},
     "output_type": "execute_result"
    }
   ],
   "source": [
    "df.groupby(['department','employee'])['salary'].sum()"
   ]
  }
 ],
 "metadata": {
  "kernelspec": {
   "display_name": "Python 3",
   "language": "python",
   "name": "python3"
  },
  "language_info": {
   "codemirror_mode": {
    "name": "ipython",
    "version": 3
   },
   "file_extension": ".py",
   "mimetype": "text/x-python",
   "name": "python",
   "nbconvert_exporter": "python",
   "pygments_lexer": "ipython3",
   "version": "3.12.3"
  }
 },
 "nbformat": 4,
 "nbformat_minor": 2
}
