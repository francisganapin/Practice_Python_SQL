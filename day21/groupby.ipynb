{
 "cells": [
  {
   "cell_type": "code",
   "execution_count": 1,
   "metadata": {},
   "outputs": [],
   "source": [
    "import numpy as np"
   ]
  },
  {
   "cell_type": "code",
   "execution_count": 2,
   "metadata": {},
   "outputs": [],
   "source": [
    "import pandas as pd"
   ]
  },
  {
   "cell_type": "code",
   "execution_count": 3,
   "metadata": {},
   "outputs": [],
   "source": [
    "import seaborn as sns"
   ]
  },
  {
   "cell_type": "code",
   "execution_count": 4,
   "metadata": {},
   "outputs": [
    {
     "data": {
      "text/plain": [
       "['anagrams',\n",
       " 'anscombe',\n",
       " 'attention',\n",
       " 'brain_networks',\n",
       " 'car_crashes',\n",
       " 'diamonds',\n",
       " 'dots',\n",
       " 'dowjones',\n",
       " 'exercise',\n",
       " 'flights',\n",
       " 'fmri',\n",
       " 'geyser',\n",
       " 'glue',\n",
       " 'healthexp',\n",
       " 'iris',\n",
       " 'mpg',\n",
       " 'penguins',\n",
       " 'planets',\n",
       " 'seaice',\n",
       " 'taxis',\n",
       " 'tips',\n",
       " 'titanic']"
      ]
     },
     "execution_count": 4,
     "metadata": {},
     "output_type": "execute_result"
    }
   ],
   "source": [
    "sns.get_dataset_names()"
   ]
  },
  {
   "cell_type": "code",
   "execution_count": 5,
   "metadata": {},
   "outputs": [],
   "source": [
    "df = sns.load_dataset('tips')"
   ]
  },
  {
   "cell_type": "code",
   "execution_count": 6,
   "metadata": {},
   "outputs": [
    {
     "data": {
      "text/html": [
       "<div>\n",
       "<style scoped>\n",
       "    .dataframe tbody tr th:only-of-type {\n",
       "        vertical-align: middle;\n",
       "    }\n",
       "\n",
       "    .dataframe tbody tr th {\n",
       "        vertical-align: top;\n",
       "    }\n",
       "\n",
       "    .dataframe thead th {\n",
       "        text-align: right;\n",
       "    }\n",
       "</style>\n",
       "<table border=\"1\" class=\"dataframe\">\n",
       "  <thead>\n",
       "    <tr style=\"text-align: right;\">\n",
       "      <th></th>\n",
       "      <th>total_bill</th>\n",
       "      <th>tip</th>\n",
       "      <th>sex</th>\n",
       "      <th>smoker</th>\n",
       "      <th>day</th>\n",
       "      <th>time</th>\n",
       "      <th>size</th>\n",
       "    </tr>\n",
       "  </thead>\n",
       "  <tbody>\n",
       "    <tr>\n",
       "      <th>0</th>\n",
       "      <td>16.99</td>\n",
       "      <td>1.01</td>\n",
       "      <td>Female</td>\n",
       "      <td>No</td>\n",
       "      <td>Sun</td>\n",
       "      <td>Dinner</td>\n",
       "      <td>2</td>\n",
       "    </tr>\n",
       "    <tr>\n",
       "      <th>1</th>\n",
       "      <td>10.34</td>\n",
       "      <td>1.66</td>\n",
       "      <td>Male</td>\n",
       "      <td>No</td>\n",
       "      <td>Sun</td>\n",
       "      <td>Dinner</td>\n",
       "      <td>3</td>\n",
       "    </tr>\n",
       "    <tr>\n",
       "      <th>2</th>\n",
       "      <td>21.01</td>\n",
       "      <td>3.50</td>\n",
       "      <td>Male</td>\n",
       "      <td>No</td>\n",
       "      <td>Sun</td>\n",
       "      <td>Dinner</td>\n",
       "      <td>3</td>\n",
       "    </tr>\n",
       "    <tr>\n",
       "      <th>3</th>\n",
       "      <td>23.68</td>\n",
       "      <td>3.31</td>\n",
       "      <td>Male</td>\n",
       "      <td>No</td>\n",
       "      <td>Sun</td>\n",
       "      <td>Dinner</td>\n",
       "      <td>2</td>\n",
       "    </tr>\n",
       "    <tr>\n",
       "      <th>4</th>\n",
       "      <td>24.59</td>\n",
       "      <td>3.61</td>\n",
       "      <td>Female</td>\n",
       "      <td>No</td>\n",
       "      <td>Sun</td>\n",
       "      <td>Dinner</td>\n",
       "      <td>4</td>\n",
       "    </tr>\n",
       "  </tbody>\n",
       "</table>\n",
       "</div>"
      ],
      "text/plain": [
       "   total_bill   tip     sex smoker  day    time  size\n",
       "0       16.99  1.01  Female     No  Sun  Dinner     2\n",
       "1       10.34  1.66    Male     No  Sun  Dinner     3\n",
       "2       21.01  3.50    Male     No  Sun  Dinner     3\n",
       "3       23.68  3.31    Male     No  Sun  Dinner     2\n",
       "4       24.59  3.61  Female     No  Sun  Dinner     4"
      ]
     },
     "execution_count": 6,
     "metadata": {},
     "output_type": "execute_result"
    }
   ],
   "source": [
    "df.head()"
   ]
  },
  {
   "cell_type": "code",
   "execution_count": 7,
   "metadata": {},
   "outputs": [
    {
     "name": "stderr",
     "output_type": "stream",
     "text": [
      "C:\\Users\\francis\\AppData\\Local\\Temp\\ipykernel_31032\\4025466990.py:1: FutureWarning: The default of observed=False is deprecated and will be changed to True in a future version of pandas. Pass observed=False to retain current behavior or observed=True to adopt the future default and silence this warning.\n",
      "  total_bill_group = df.groupby('time')['total_bill'].sum()\n",
      "C:\\Users\\francis\\AppData\\Local\\Temp\\ipykernel_31032\\4025466990.py:2: FutureWarning: The default of observed=False is deprecated and will be changed to True in a future version of pandas. Pass observed=False to retain current behavior or observed=True to adopt the future default and silence this warning.\n",
      "  avg_bill_group = df.groupby('time')['total_bill'].mean()\n"
     ]
    }
   ],
   "source": [
    "total_bill_group = df.groupby('time')['total_bill'].sum()\n",
    "avg_bill_group = df.groupby('time')['total_bill'].mean()"
   ]
  },
  {
   "cell_type": "code",
   "execution_count": 8,
   "metadata": {},
   "outputs": [
    {
     "name": "stdout",
     "output_type": "stream",
     "text": [
      "time\n",
      "Lunch     17.168676\n",
      "Dinner    20.797159\n",
      "Name: total_bill, dtype: float64\n"
     ]
    }
   ],
   "source": [
    "print(avg_bill_group)"
   ]
  },
  {
   "cell_type": "code",
   "execution_count": 9,
   "metadata": {},
   "outputs": [
    {
     "name": "stdout",
     "output_type": "stream",
     "text": [
      "time\n",
      "Lunch     1167.47\n",
      "Dinner    3660.30\n",
      "Name: total_bill, dtype: float64\n"
     ]
    }
   ],
   "source": [
    "print(total_bill_group)"
   ]
  },
  {
   "cell_type": "code",
   "execution_count": 10,
   "metadata": {},
   "outputs": [],
   "source": [
    "df1 = pd.read_csv('Flavors.csv')"
   ]
  },
  {
   "cell_type": "code",
   "execution_count": 11,
   "metadata": {},
   "outputs": [
    {
     "name": "stdout",
     "output_type": "stream",
     "text": [
      "                   Flavor Base Flavor Liked  Flavor Rating  Texture Rating  \\\n",
      "0     Mint Chocolate Chip     Vanilla   Yes           10.0             8.0   \n",
      "1               Chocolate   Chocolate   Yes            8.8             7.6   \n",
      "2                 Vanilla     Vanilla    No            4.7             5.0   \n",
      "3            Cookie Dough     Vanilla   Yes            6.9             6.5   \n",
      "4              Rocky Road   Chocolate   Yes            8.2             7.0   \n",
      "5               Pistachio     Vanilla    No            2.3             3.4   \n",
      "6             Cake Batter     Vanilla   Yes            6.5             6.0   \n",
      "7              Neapolitan     Vanilla    No            3.8             5.0   \n",
      "8  Chocolte Fudge Brownie   Chocolate   Yes            8.2             7.1   \n",
      "\n",
      "   Total Rating  \n",
      "0          18.0  \n",
      "1          16.6  \n",
      "2           9.7  \n",
      "3          13.4  \n",
      "4          15.2  \n",
      "5           5.7  \n",
      "6          12.5  \n",
      "7           8.8  \n",
      "8          15.3  \n"
     ]
    }
   ],
   "source": [
    "print(df1)"
   ]
  },
  {
   "cell_type": "code",
   "execution_count": 12,
   "metadata": {},
   "outputs": [],
   "source": [
    "group_by_frame = df1.groupby('Base Flavor')"
   ]
  },
  {
   "cell_type": "code",
   "execution_count": 13,
   "metadata": {},
   "outputs": [
    {
     "data": {
      "text/html": [
       "<div>\n",
       "<style scoped>\n",
       "    .dataframe tbody tr th:only-of-type {\n",
       "        vertical-align: middle;\n",
       "    }\n",
       "\n",
       "    .dataframe tbody tr th {\n",
       "        vertical-align: top;\n",
       "    }\n",
       "\n",
       "    .dataframe thead th {\n",
       "        text-align: right;\n",
       "    }\n",
       "</style>\n",
       "<table border=\"1\" class=\"dataframe\">\n",
       "  <thead>\n",
       "    <tr style=\"text-align: right;\">\n",
       "      <th></th>\n",
       "      <th>Flavor Rating</th>\n",
       "      <th>Texture Rating</th>\n",
       "      <th>Total Rating</th>\n",
       "    </tr>\n",
       "    <tr>\n",
       "      <th>Base Flavor</th>\n",
       "      <th></th>\n",
       "      <th></th>\n",
       "      <th></th>\n",
       "    </tr>\n",
       "  </thead>\n",
       "  <tbody>\n",
       "    <tr>\n",
       "      <th>Chocolate</th>\n",
       "      <td>8.4</td>\n",
       "      <td>7.233333</td>\n",
       "      <td>15.70</td>\n",
       "    </tr>\n",
       "    <tr>\n",
       "      <th>Vanilla</th>\n",
       "      <td>5.7</td>\n",
       "      <td>5.650000</td>\n",
       "      <td>11.35</td>\n",
       "    </tr>\n",
       "  </tbody>\n",
       "</table>\n",
       "</div>"
      ],
      "text/plain": [
       "             Flavor Rating  Texture Rating  Total Rating\n",
       "Base Flavor                                             \n",
       "Chocolate              8.4        7.233333         15.70\n",
       "Vanilla                5.7        5.650000         11.35"
      ]
     },
     "execution_count": 13,
     "metadata": {},
     "output_type": "execute_result"
    }
   ],
   "source": [
    "group_by_frame[['Flavor Rating','Texture Rating','Total Rating']].mean()"
   ]
  },
  {
   "cell_type": "code",
   "execution_count": 14,
   "metadata": {},
   "outputs": [
    {
     "data": {
      "text/html": [
       "<div>\n",
       "<style scoped>\n",
       "    .dataframe tbody tr th:only-of-type {\n",
       "        vertical-align: middle;\n",
       "    }\n",
       "\n",
       "    .dataframe tbody tr th {\n",
       "        vertical-align: top;\n",
       "    }\n",
       "\n",
       "    .dataframe thead th {\n",
       "        text-align: right;\n",
       "    }\n",
       "</style>\n",
       "<table border=\"1\" class=\"dataframe\">\n",
       "  <thead>\n",
       "    <tr style=\"text-align: right;\">\n",
       "      <th></th>\n",
       "      <th>Flavor</th>\n",
       "      <th>Liked</th>\n",
       "      <th>Flavor Rating</th>\n",
       "      <th>Texture Rating</th>\n",
       "      <th>Total Rating</th>\n",
       "    </tr>\n",
       "    <tr>\n",
       "      <th>Base Flavor</th>\n",
       "      <th></th>\n",
       "      <th></th>\n",
       "      <th></th>\n",
       "      <th></th>\n",
       "      <th></th>\n",
       "    </tr>\n",
       "  </thead>\n",
       "  <tbody>\n",
       "    <tr>\n",
       "      <th>Chocolate</th>\n",
       "      <td>3</td>\n",
       "      <td>3</td>\n",
       "      <td>3</td>\n",
       "      <td>3</td>\n",
       "      <td>3</td>\n",
       "    </tr>\n",
       "    <tr>\n",
       "      <th>Vanilla</th>\n",
       "      <td>6</td>\n",
       "      <td>6</td>\n",
       "      <td>6</td>\n",
       "      <td>6</td>\n",
       "      <td>6</td>\n",
       "    </tr>\n",
       "  </tbody>\n",
       "</table>\n",
       "</div>"
      ],
      "text/plain": [
       "             Flavor  Liked  Flavor Rating  Texture Rating  Total Rating\n",
       "Base Flavor                                                            \n",
       "Chocolate         3      3              3               3             3\n",
       "Vanilla           6      6              6               6             6"
      ]
     },
     "execution_count": 14,
     "metadata": {},
     "output_type": "execute_result"
    }
   ],
   "source": [
    "df1.groupby('Base Flavor').count()"
   ]
  },
  {
   "cell_type": "code",
   "execution_count": 15,
   "metadata": {},
   "outputs": [
    {
     "data": {
      "text/html": [
       "<div>\n",
       "<style scoped>\n",
       "    .dataframe tbody tr th:only-of-type {\n",
       "        vertical-align: middle;\n",
       "    }\n",
       "\n",
       "    .dataframe tbody tr th {\n",
       "        vertical-align: top;\n",
       "    }\n",
       "\n",
       "    .dataframe thead th {\n",
       "        text-align: right;\n",
       "    }\n",
       "</style>\n",
       "<table border=\"1\" class=\"dataframe\">\n",
       "  <thead>\n",
       "    <tr style=\"text-align: right;\">\n",
       "      <th></th>\n",
       "      <th>Flavor</th>\n",
       "      <th>Liked</th>\n",
       "      <th>Flavor Rating</th>\n",
       "      <th>Texture Rating</th>\n",
       "      <th>Total Rating</th>\n",
       "    </tr>\n",
       "    <tr>\n",
       "      <th>Base Flavor</th>\n",
       "      <th></th>\n",
       "      <th></th>\n",
       "      <th></th>\n",
       "      <th></th>\n",
       "      <th></th>\n",
       "    </tr>\n",
       "  </thead>\n",
       "  <tbody>\n",
       "    <tr>\n",
       "      <th>Chocolate</th>\n",
       "      <td>Chocolate</td>\n",
       "      <td>Yes</td>\n",
       "      <td>8.2</td>\n",
       "      <td>7.0</td>\n",
       "      <td>15.2</td>\n",
       "    </tr>\n",
       "    <tr>\n",
       "      <th>Vanilla</th>\n",
       "      <td>Cake Batter</td>\n",
       "      <td>No</td>\n",
       "      <td>2.3</td>\n",
       "      <td>3.4</td>\n",
       "      <td>5.7</td>\n",
       "    </tr>\n",
       "  </tbody>\n",
       "</table>\n",
       "</div>"
      ],
      "text/plain": [
       "                  Flavor Liked  Flavor Rating  Texture Rating  Total Rating\n",
       "Base Flavor                                                                \n",
       "Chocolate      Chocolate   Yes            8.2             7.0          15.2\n",
       "Vanilla      Cake Batter    No            2.3             3.4           5.7"
      ]
     },
     "execution_count": 15,
     "metadata": {},
     "output_type": "execute_result"
    }
   ],
   "source": [
    "df1.groupby('Base Flavor').min()"
   ]
  },
  {
   "cell_type": "code",
   "execution_count": 16,
   "metadata": {},
   "outputs": [
    {
     "data": {
      "text/html": [
       "<div>\n",
       "<style scoped>\n",
       "    .dataframe tbody tr th:only-of-type {\n",
       "        vertical-align: middle;\n",
       "    }\n",
       "\n",
       "    .dataframe tbody tr th {\n",
       "        vertical-align: top;\n",
       "    }\n",
       "\n",
       "    .dataframe thead th {\n",
       "        text-align: right;\n",
       "    }\n",
       "</style>\n",
       "<table border=\"1\" class=\"dataframe\">\n",
       "  <thead>\n",
       "    <tr style=\"text-align: right;\">\n",
       "      <th></th>\n",
       "      <th>Flavor</th>\n",
       "      <th>Liked</th>\n",
       "      <th>Flavor Rating</th>\n",
       "      <th>Texture Rating</th>\n",
       "      <th>Total Rating</th>\n",
       "    </tr>\n",
       "    <tr>\n",
       "      <th>Base Flavor</th>\n",
       "      <th></th>\n",
       "      <th></th>\n",
       "      <th></th>\n",
       "      <th></th>\n",
       "      <th></th>\n",
       "    </tr>\n",
       "  </thead>\n",
       "  <tbody>\n",
       "    <tr>\n",
       "      <th>Chocolate</th>\n",
       "      <td>Rocky Road</td>\n",
       "      <td>Yes</td>\n",
       "      <td>8.8</td>\n",
       "      <td>7.6</td>\n",
       "      <td>16.6</td>\n",
       "    </tr>\n",
       "    <tr>\n",
       "      <th>Vanilla</th>\n",
       "      <td>Vanilla</td>\n",
       "      <td>Yes</td>\n",
       "      <td>10.0</td>\n",
       "      <td>8.0</td>\n",
       "      <td>18.0</td>\n",
       "    </tr>\n",
       "  </tbody>\n",
       "</table>\n",
       "</div>"
      ],
      "text/plain": [
       "                 Flavor Liked  Flavor Rating  Texture Rating  Total Rating\n",
       "Base Flavor                                                               \n",
       "Chocolate    Rocky Road   Yes            8.8             7.6          16.6\n",
       "Vanilla         Vanilla   Yes           10.0             8.0          18.0"
      ]
     },
     "execution_count": 16,
     "metadata": {},
     "output_type": "execute_result"
    }
   ],
   "source": [
    "df1.groupby('Base Flavor').max()"
   ]
  },
  {
   "cell_type": "code",
   "execution_count": null,
   "metadata": {},
   "outputs": [],
   "source": []
  },
  {
   "cell_type": "code",
   "execution_count": 19,
   "metadata": {},
   "outputs": [],
   "source": [
    "df = pd.DataFrame({\n",
    "    'Department':['Sales','Sales','IT','IT','HR'],\n",
    "    'Employee':['Alice','Bob','Charlie','David','Eva'],\n",
    "    'Salary':[50000,60000,700000,800000,450000],\n",
    "    'Bonus':[5000,6000,4000,3000,2000]\n",
    "})\n",
    "\n",
    "result = df.groupby('Department').agg({\n",
    "    'Salary':['mean','max'],\n",
    "    'Bonus':['sum','min']\n",
    "})"
   ]
  },
  {
   "cell_type": "code",
   "execution_count": 20,
   "metadata": {},
   "outputs": [
    {
     "name": "stdout",
     "output_type": "stream",
     "text": [
      "              Salary          Bonus      \n",
      "                mean     max    sum   min\n",
      "Department                               \n",
      "HR          450000.0  450000   2000  2000\n",
      "IT          750000.0  800000   7000  3000\n",
      "Sales        55000.0   60000  11000  5000\n"
     ]
    }
   ],
   "source": [
    "print(result)"
   ]
  },
  {
   "cell_type": "code",
   "execution_count": 21,
   "metadata": {},
   "outputs": [],
   "source": [
    "def top_earner(group):\n",
    "    return group.sort_values(by='Salary',ascending=False).head(1)"
   ]
  },
  {
   "cell_type": "code",
   "execution_count": 22,
   "metadata": {},
   "outputs": [
    {
     "name": "stderr",
     "output_type": "stream",
     "text": [
      "C:\\Users\\francis\\AppData\\Local\\Temp\\ipykernel_31032\\2606043627.py:1: DeprecationWarning: DataFrameGroupBy.apply operated on the grouping columns. This behavior is deprecated, and in a future version of pandas the grouping columns will be excluded from the operation. Either pass `include_groups=False` to exclude the groupings or explicitly select the grouping columns after groupby to silence this warning.\n",
      "  df.groupby('Department').apply(top_earner)\n"
     ]
    },
    {
     "data": {
      "text/html": [
       "<div>\n",
       "<style scoped>\n",
       "    .dataframe tbody tr th:only-of-type {\n",
       "        vertical-align: middle;\n",
       "    }\n",
       "\n",
       "    .dataframe tbody tr th {\n",
       "        vertical-align: top;\n",
       "    }\n",
       "\n",
       "    .dataframe thead th {\n",
       "        text-align: right;\n",
       "    }\n",
       "</style>\n",
       "<table border=\"1\" class=\"dataframe\">\n",
       "  <thead>\n",
       "    <tr style=\"text-align: right;\">\n",
       "      <th></th>\n",
       "      <th></th>\n",
       "      <th>Department</th>\n",
       "      <th>Employee</th>\n",
       "      <th>Salary</th>\n",
       "      <th>Bonus</th>\n",
       "    </tr>\n",
       "    <tr>\n",
       "      <th>Department</th>\n",
       "      <th></th>\n",
       "      <th></th>\n",
       "      <th></th>\n",
       "      <th></th>\n",
       "      <th></th>\n",
       "    </tr>\n",
       "  </thead>\n",
       "  <tbody>\n",
       "    <tr>\n",
       "      <th>HR</th>\n",
       "      <th>4</th>\n",
       "      <td>HR</td>\n",
       "      <td>Eva</td>\n",
       "      <td>450000</td>\n",
       "      <td>2000</td>\n",
       "    </tr>\n",
       "    <tr>\n",
       "      <th>IT</th>\n",
       "      <th>3</th>\n",
       "      <td>IT</td>\n",
       "      <td>David</td>\n",
       "      <td>800000</td>\n",
       "      <td>3000</td>\n",
       "    </tr>\n",
       "    <tr>\n",
       "      <th>Sales</th>\n",
       "      <th>1</th>\n",
       "      <td>Sales</td>\n",
       "      <td>Bob</td>\n",
       "      <td>60000</td>\n",
       "      <td>6000</td>\n",
       "    </tr>\n",
       "  </tbody>\n",
       "</table>\n",
       "</div>"
      ],
      "text/plain": [
       "             Department Employee  Salary  Bonus\n",
       "Department                                     \n",
       "HR         4         HR      Eva  450000   2000\n",
       "IT         3         IT    David  800000   3000\n",
       "Sales      1      Sales      Bob   60000   6000"
      ]
     },
     "execution_count": 22,
     "metadata": {},
     "output_type": "execute_result"
    }
   ],
   "source": [
    "df.groupby('Department').apply(top_earner)"
   ]
  },
  {
   "cell_type": "code",
   "execution_count": 23,
   "metadata": {},
   "outputs": [
    {
     "data": {
      "text/html": [
       "<div>\n",
       "<style scoped>\n",
       "    .dataframe tbody tr th:only-of-type {\n",
       "        vertical-align: middle;\n",
       "    }\n",
       "\n",
       "    .dataframe tbody tr th {\n",
       "        vertical-align: top;\n",
       "    }\n",
       "\n",
       "    .dataframe thead th {\n",
       "        text-align: right;\n",
       "    }\n",
       "</style>\n",
       "<table border=\"1\" class=\"dataframe\">\n",
       "  <thead>\n",
       "    <tr style=\"text-align: right;\">\n",
       "      <th></th>\n",
       "      <th></th>\n",
       "      <th>Salary</th>\n",
       "      <th>Bonus</th>\n",
       "    </tr>\n",
       "    <tr>\n",
       "      <th>Department</th>\n",
       "      <th>Employee</th>\n",
       "      <th></th>\n",
       "      <th></th>\n",
       "    </tr>\n",
       "  </thead>\n",
       "  <tbody>\n",
       "    <tr>\n",
       "      <th>HR</th>\n",
       "      <th>Eva</th>\n",
       "      <td>450000</td>\n",
       "      <td>2000</td>\n",
       "    </tr>\n",
       "    <tr>\n",
       "      <th rowspan=\"2\" valign=\"top\">IT</th>\n",
       "      <th>Charlie</th>\n",
       "      <td>700000</td>\n",
       "      <td>4000</td>\n",
       "    </tr>\n",
       "    <tr>\n",
       "      <th>David</th>\n",
       "      <td>800000</td>\n",
       "      <td>3000</td>\n",
       "    </tr>\n",
       "    <tr>\n",
       "      <th rowspan=\"2\" valign=\"top\">Sales</th>\n",
       "      <th>Alice</th>\n",
       "      <td>50000</td>\n",
       "      <td>5000</td>\n",
       "    </tr>\n",
       "    <tr>\n",
       "      <th>Bob</th>\n",
       "      <td>60000</td>\n",
       "      <td>6000</td>\n",
       "    </tr>\n",
       "  </tbody>\n",
       "</table>\n",
       "</div>"
      ],
      "text/plain": [
       "                     Salary  Bonus\n",
       "Department Employee               \n",
       "HR         Eva       450000   2000\n",
       "IT         Charlie   700000   4000\n",
       "           David     800000   3000\n",
       "Sales      Alice      50000   5000\n",
       "           Bob        60000   6000"
      ]
     },
     "execution_count": 23,
     "metadata": {},
     "output_type": "execute_result"
    }
   ],
   "source": [
    "df.groupby(['Department','Employee']).sum()"
   ]
  },
  {
   "cell_type": "code",
   "execution_count": 24,
   "metadata": {},
   "outputs": [],
   "source": [
    "df2 = pd.DataFrame({\n",
    "    'Region':['North','South','North','West','South'],\n",
    "    'Product':['A','A','B','B','C'],\n",
    "    'Category':['TECH','TECH','TECH','Furniture','Furniture'],\n",
    "    'Revenue':[200,300,250,400,100],\n",
    "    'Quantity':[2,3,1,4,1]\n",
    "})"
   ]
  },
  {
   "cell_type": "code",
   "execution_count": 26,
   "metadata": {},
   "outputs": [
    {
     "data": {
      "text/plain": [
       "Product\n",
       "A    500\n",
       "B    650\n",
       "C    100\n",
       "Name: Revenue, dtype: int64"
      ]
     },
     "execution_count": 26,
     "metadata": {},
     "output_type": "execute_result"
    }
   ],
   "source": [
    "df2.groupby('Product')['Revenue'].sum()"
   ]
  },
  {
   "cell_type": "code",
   "execution_count": 28,
   "metadata": {},
   "outputs": [
    {
     "data": {
      "text/plain": [
       "Category\n",
       "Furniture    250.0\n",
       "TECH         250.0\n",
       "Name: Revenue, dtype: float64"
      ]
     },
     "execution_count": 28,
     "metadata": {},
     "output_type": "execute_result"
    }
   ],
   "source": [
    "df2.groupby('Category')['Revenue'].mean()"
   ]
  },
  {
   "cell_type": "code",
   "execution_count": 30,
   "metadata": {},
   "outputs": [
    {
     "data": {
      "text/plain": [
       "Region  Product\n",
       "North   A          200\n",
       "        B          250\n",
       "South   A          300\n",
       "        C          100\n",
       "West    B          400\n",
       "Name: Revenue, dtype: int64"
      ]
     },
     "execution_count": 30,
     "metadata": {},
     "output_type": "execute_result"
    }
   ],
   "source": [
    "df2.groupby(['Region','Product'])['Revenue'].sum()"
   ]
  },
  {
   "cell_type": "code",
   "execution_count": 32,
   "metadata": {},
   "outputs": [],
   "source": [
    "df3  =pd.DataFrame({\n",
    "    'Name':['Alice','Bob','Charlie','David','Eve'],\n",
    "    'Department':['HR','IT','IT','SALE','SALE'],\n",
    "    'Salary':[50000,60000,700000,550000,520000],\n",
    "    'Performance':[8,9,7,6,9]\n",
    "\n",
    "})"
   ]
  },
  {
   "cell_type": "code",
   "execution_count": 33,
   "metadata": {},
   "outputs": [
    {
     "data": {
      "text/plain": [
       "Department\n",
       "HR       50000.0\n",
       "IT      380000.0\n",
       "SALE    535000.0\n",
       "Name: Salary, dtype: float64"
      ]
     },
     "execution_count": 33,
     "metadata": {},
     "output_type": "execute_result"
    }
   ],
   "source": [
    "df3.groupby('Department')['Salary'].mean()"
   ]
  },
  {
   "cell_type": "code",
   "execution_count": 34,
   "metadata": {},
   "outputs": [
    {
     "name": "stderr",
     "output_type": "stream",
     "text": [
      "C:\\Users\\francis\\AppData\\Local\\Temp\\ipykernel_31032\\3380274483.py:1: DeprecationWarning: DataFrameGroupBy.apply operated on the grouping columns. This behavior is deprecated, and in a future version of pandas the grouping columns will be excluded from the operation. Either pass `include_groups=False` to exclude the groupings or explicitly select the grouping columns after groupby to silence this warning.\n",
      "  df3.groupby('Department').apply(lambda x: x.nlargest(1,'Performance'))\n"
     ]
    },
    {
     "data": {
      "text/html": [
       "<div>\n",
       "<style scoped>\n",
       "    .dataframe tbody tr th:only-of-type {\n",
       "        vertical-align: middle;\n",
       "    }\n",
       "\n",
       "    .dataframe tbody tr th {\n",
       "        vertical-align: top;\n",
       "    }\n",
       "\n",
       "    .dataframe thead th {\n",
       "        text-align: right;\n",
       "    }\n",
       "</style>\n",
       "<table border=\"1\" class=\"dataframe\">\n",
       "  <thead>\n",
       "    <tr style=\"text-align: right;\">\n",
       "      <th></th>\n",
       "      <th></th>\n",
       "      <th>Name</th>\n",
       "      <th>Department</th>\n",
       "      <th>Salary</th>\n",
       "      <th>Performance</th>\n",
       "    </tr>\n",
       "    <tr>\n",
       "      <th>Department</th>\n",
       "      <th></th>\n",
       "      <th></th>\n",
       "      <th></th>\n",
       "      <th></th>\n",
       "      <th></th>\n",
       "    </tr>\n",
       "  </thead>\n",
       "  <tbody>\n",
       "    <tr>\n",
       "      <th>HR</th>\n",
       "      <th>0</th>\n",
       "      <td>Alice</td>\n",
       "      <td>HR</td>\n",
       "      <td>50000</td>\n",
       "      <td>8</td>\n",
       "    </tr>\n",
       "    <tr>\n",
       "      <th>IT</th>\n",
       "      <th>1</th>\n",
       "      <td>Bob</td>\n",
       "      <td>IT</td>\n",
       "      <td>60000</td>\n",
       "      <td>9</td>\n",
       "    </tr>\n",
       "    <tr>\n",
       "      <th>SALE</th>\n",
       "      <th>4</th>\n",
       "      <td>Eve</td>\n",
       "      <td>SALE</td>\n",
       "      <td>520000</td>\n",
       "      <td>9</td>\n",
       "    </tr>\n",
       "  </tbody>\n",
       "</table>\n",
       "</div>"
      ],
      "text/plain": [
       "               Name Department  Salary  Performance\n",
       "Department                                         \n",
       "HR         0  Alice         HR   50000            8\n",
       "IT         1    Bob         IT   60000            9\n",
       "SALE       4    Eve       SALE  520000            9"
      ]
     },
     "execution_count": 34,
     "metadata": {},
     "output_type": "execute_result"
    }
   ],
   "source": [
    "df3.groupby('Department').apply(lambda x: x.nlargest(1,'Performance'))"
   ]
  },
  {
   "cell_type": "code",
   "execution_count": 35,
   "metadata": {},
   "outputs": [
    {
     "data": {
      "text/plain": [
       "Department\n",
       "IT      2\n",
       "SALE    2\n",
       "HR      1\n",
       "Name: count, dtype: int64"
      ]
     },
     "execution_count": 35,
     "metadata": {},
     "output_type": "execute_result"
    }
   ],
   "source": [
    "df3['Department'].value_counts()"
   ]
  },
  {
   "cell_type": "code",
   "execution_count": 36,
   "metadata": {},
   "outputs": [],
   "source": [
    "df5 = pd.DataFrame({\n",
    "    'Date':pd.date_range('2024-01-01',periods=6),\n",
    "    'Stock':['AAPL','AAPL','MSFT','MSFT','GOOG','GOOG'],\n",
    "    'Sector':['TECH','TECH','TECH','TECH','TECH','TECH'],\n",
    "    'Daily_Return':[0.01,0.02,-0.01,0.03,0.00,0.01],\n",
    "    'Price':[150,153,280,288,130,131]\n",
    "})"
   ]
  },
  {
   "cell_type": "code",
   "execution_count": 37,
   "metadata": {},
   "outputs": [
    {
     "data": {
      "text/plain": [
       "Stock\n",
       "AAPL    0.015\n",
       "GOOG    0.005\n",
       "MSFT    0.010\n",
       "Name: Daily_Return, dtype: float64"
      ]
     },
     "execution_count": 37,
     "metadata": {},
     "output_type": "execute_result"
    }
   ],
   "source": [
    "df5.groupby('Stock')['Daily_Return'].mean()"
   ]
  },
  {
   "cell_type": "code",
   "execution_count": 39,
   "metadata": {},
   "outputs": [],
   "source": [
    "df5['Cumulative_Return'] = df5.groupby('Stock')['Daily_Return'].cumsum()"
   ]
  },
  {
   "cell_type": "code",
   "execution_count": 40,
   "metadata": {},
   "outputs": [
    {
     "name": "stdout",
     "output_type": "stream",
     "text": [
      "        Date Stock Sector  Daily_Return  Price  Cumulative_Return\n",
      "0 2024-01-01  AAPL   TECH          0.01    150               0.01\n",
      "1 2024-01-02  AAPL   TECH          0.02    153               0.03\n",
      "2 2024-01-03  MSFT   TECH         -0.01    280              -0.01\n",
      "3 2024-01-04  MSFT   TECH          0.03    288               0.02\n",
      "4 2024-01-05  GOOG   TECH          0.00    130               0.00\n",
      "5 2024-01-06  GOOG   TECH          0.01    131               0.01\n"
     ]
    }
   ],
   "source": [
    "print(df5)"
   ]
  },
  {
   "cell_type": "code",
   "execution_count": 41,
   "metadata": {},
   "outputs": [],
   "source": [
    "d6 = pd.DataFrame({\n",
    "    'PatientID':[1,2,3,4,5],\n",
    "    'Diagnosis':['Diabetes','Hypertension','Diabetes','Astham','Astham'],\n",
    "    'Age':[45,60,50,25,30],\n",
    "    'Dosage':[50,30,40,20,10]\n",
    "})\n"
   ]
  },
  {
   "cell_type": "code",
   "execution_count": 42,
   "metadata": {},
   "outputs": [
    {
     "data": {
      "text/plain": [
       "Diagnosis\n",
       "Diabetes        2\n",
       "Astham          2\n",
       "Hypertension    1\n",
       "Name: count, dtype: int64"
      ]
     },
     "execution_count": 42,
     "metadata": {},
     "output_type": "execute_result"
    }
   ],
   "source": [
    "d6['Diagnosis'].value_counts()"
   ]
  },
  {
   "cell_type": "code",
   "execution_count": 43,
   "metadata": {},
   "outputs": [
    {
     "data": {
      "text/plain": [
       "Diagnosis\n",
       "Astham          27.5\n",
       "Diabetes        47.5\n",
       "Hypertension    60.0\n",
       "Name: Age, dtype: float64"
      ]
     },
     "execution_count": 43,
     "metadata": {},
     "output_type": "execute_result"
    }
   ],
   "source": [
    "d6.groupby('Diagnosis')['Age'].mean()"
   ]
  },
  {
   "cell_type": "code",
   "execution_count": null,
   "metadata": {},
   "outputs": [],
   "source": [
    "d6.groupby('Diagnosis')['Dosage'].sum()"
   ]
  },
  {
   "cell_type": "code",
   "execution_count": null,
   "metadata": {},
   "outputs": [],
   "source": [
    "df = pd.DataFrame({\n",
    "    'Date':pd.date_range(start='2024-01-01',periods=10,freq='D'),\n",
    "    'Product':['A','B'] * 5,\n",
    "    'Sale':[10,15,12,17,14,18,13,16,12,20]\n",
    "})\n",
    "\n",
    "df['Month'] = df['Date'].dt.to_period('M')\n",
    "\n",
    "df.group(['Month','Product'])['Sales'].sum()"
   ]
  },
  {
   "cell_type": "code",
   "execution_count": 44,
   "metadata": {},
   "outputs": [],
   "source": [
    "df = pd.DataFrame({\n",
    "    'User':['u1','u1','u2','u2','u3'],\n",
    "    'Page':['Home','Product','Home','Product','Home'],\n",
    "    'TimeOnPage':[10,20,15,25,30],\n",
    "    'Source':['Google','Google','Facebook','Facebook','Google']\n",
    "})"
   ]
  },
  {
   "cell_type": "code",
   "execution_count": 45,
   "metadata": {},
   "outputs": [
    {
     "data": {
      "text/plain": [
       "User\n",
       "u1    2\n",
       "u2    2\n",
       "u3    1\n",
       "Name: count, dtype: int64"
      ]
     },
     "execution_count": 45,
     "metadata": {},
     "output_type": "execute_result"
    }
   ],
   "source": [
    "df['User'].value_counts()"
   ]
  },
  {
   "cell_type": "code",
   "execution_count": 46,
   "metadata": {},
   "outputs": [
    {
     "data": {
      "text/plain": [
       "Page\n",
       "Home       18.333333\n",
       "Product    22.500000\n",
       "Name: TimeOnPage, dtype: float64"
      ]
     },
     "execution_count": 46,
     "metadata": {},
     "output_type": "execute_result"
    }
   ],
   "source": [
    "df.groupby('Page')['TimeOnPage'].mean()"
   ]
  },
  {
   "cell_type": "code",
   "execution_count": 47,
   "metadata": {},
   "outputs": [
    {
     "data": {
      "text/plain": [
       "Source\n",
       "Facebook    1\n",
       "Google      2\n",
       "Name: User, dtype: int64"
      ]
     },
     "execution_count": 47,
     "metadata": {},
     "output_type": "execute_result"
    }
   ],
   "source": [
    "df.groupby('Source')['User'].nunique()"
   ]
  },
  {
   "cell_type": "code",
   "execution_count": 48,
   "metadata": {},
   "outputs": [],
   "source": [
    "df = pd.DataFrame({\n",
    "    'Region':['East','East','West','West','Nort'],\n",
    "    'Saleperson':['Alice','Bob','Charlie','David','Eva'],\n",
    "    'Revenue':[300,400,500,450,600]\n",
    "})\n",
    "\n",
    "df['Rank_in_Region'] = df.groupby('Region')['Revenue'].rank(ascending=False)"
   ]
  },
  {
   "cell_type": "code",
   "execution_count": 49,
   "metadata": {},
   "outputs": [
    {
     "name": "stdout",
     "output_type": "stream",
     "text": [
      "  Region Saleperson  Revenue  Rank_in_Region\n",
      "0   East      Alice      300             2.0\n",
      "1   East        Bob      400             1.0\n",
      "2   West    Charlie      500             1.0\n",
      "3   West      David      450             2.0\n",
      "4   Nort        Eva      600             1.0\n"
     ]
    }
   ],
   "source": [
    "print(df)"
   ]
  },
  {
   "cell_type": "code",
   "execution_count": 57,
   "metadata": {},
   "outputs": [],
   "source": [
    "df = pd.DataFrame({\n",
    "    'Store':['A','A','A','B','B','B'],\n",
    "    'Date':pd.date_range('2023-01-01',periods=6),\n",
    "    'Sales':[100,120,110,90,95,130]\n",
    "})"
   ]
  },
  {
   "cell_type": "code",
   "execution_count": 58,
   "metadata": {},
   "outputs": [],
   "source": [
    "df['SalesChange'] = df.groupby('Store')['Sales'].diff()"
   ]
  },
  {
   "cell_type": "code",
   "execution_count": 59,
   "metadata": {},
   "outputs": [
    {
     "name": "stdout",
     "output_type": "stream",
     "text": [
      "  Store       Date  Sales  SalesChange\n",
      "0     A 2023-01-01    100          NaN\n",
      "1     A 2023-01-02    120         20.0\n",
      "2     A 2023-01-03    110        -10.0\n",
      "3     B 2023-01-04     90          NaN\n",
      "4     B 2023-01-05     95          5.0\n",
      "5     B 2023-01-06    130         35.0\n"
     ]
    }
   ],
   "source": [
    "print(df)"
   ]
  },
  {
   "cell_type": "code",
   "execution_count": 60,
   "metadata": {},
   "outputs": [],
   "source": [
    "df = pd.DataFrame({\n",
    "    'Region':['East','East','West','West','Nort'],\n",
    "    'Saleperson':['Alice','Bob','Charlie','David','Eva'],\n",
    "    'Revenue':[300,400,500,450,600]\n",
    "})"
   ]
  },
  {
   "cell_type": "code",
   "execution_count": 61,
   "metadata": {},
   "outputs": [],
   "source": [
    "group_avg = df.groupby('Region')['Revenue'].transform('mean')\n",
    "group_std = df.groupby('Region')['Revenue'].transform('std')"
   ]
  },
  {
   "cell_type": "code",
   "execution_count": 62,
   "metadata": {},
   "outputs": [
    {
     "name": "stdout",
     "output_type": "stream",
     "text": [
      "0    350.0\n",
      "1    350.0\n",
      "2    475.0\n",
      "3    475.0\n",
      "4    600.0\n",
      "Name: Revenue, dtype: float64\n"
     ]
    }
   ],
   "source": [
    "print(group_avg)"
   ]
  },
  {
   "cell_type": "code",
   "execution_count": 63,
   "metadata": {},
   "outputs": [
    {
     "name": "stdout",
     "output_type": "stream",
     "text": [
      "0    70.710678\n",
      "1    70.710678\n",
      "2    35.355339\n",
      "3    35.355339\n",
      "4          NaN\n",
      "Name: Revenue, dtype: float64\n"
     ]
    }
   ],
   "source": [
    "print(group_std)"
   ]
  },
  {
   "cell_type": "code",
   "execution_count": 64,
   "metadata": {},
   "outputs": [],
   "source": [
    "df['Z_score'] = (df['Revenue'] - group_avg) / group_std"
   ]
  },
  {
   "cell_type": "code",
   "execution_count": 65,
   "metadata": {},
   "outputs": [
    {
     "name": "stdout",
     "output_type": "stream",
     "text": [
      "  Region Saleperson  Revenue   Z_score\n",
      "0   East      Alice      300 -0.707107\n",
      "1   East        Bob      400  0.707107\n",
      "2   West    Charlie      500  0.707107\n",
      "3   West      David      450 -0.707107\n",
      "4   Nort        Eva      600       NaN\n"
     ]
    }
   ],
   "source": [
    "print(df)"
   ]
  },
  {
   "cell_type": "code",
   "execution_count": 66,
   "metadata": {},
   "outputs": [],
   "source": [
    "outliers = df[df['Z_score'] > 1.5]"
   ]
  },
  {
   "cell_type": "code",
   "execution_count": 67,
   "metadata": {},
   "outputs": [
    {
     "name": "stdout",
     "output_type": "stream",
     "text": [
      "Empty DataFrame\n",
      "Columns: [Region, Saleperson, Revenue, Z_score]\n",
      "Index: []\n"
     ]
    }
   ],
   "source": [
    "print(outliers)"
   ]
  },
  {
   "cell_type": "code",
   "execution_count": 68,
   "metadata": {},
   "outputs": [
    {
     "data": {
      "text/html": [
       "<div>\n",
       "<style scoped>\n",
       "    .dataframe tbody tr th:only-of-type {\n",
       "        vertical-align: middle;\n",
       "    }\n",
       "\n",
       "    .dataframe tbody tr th {\n",
       "        vertical-align: top;\n",
       "    }\n",
       "\n",
       "    .dataframe thead th {\n",
       "        text-align: right;\n",
       "    }\n",
       "</style>\n",
       "<table border=\"1\" class=\"dataframe\">\n",
       "  <thead>\n",
       "    <tr style=\"text-align: right;\">\n",
       "      <th></th>\n",
       "      <th></th>\n",
       "      <th>mean</th>\n",
       "      <th>max</th>\n",
       "      <th>min</th>\n",
       "    </tr>\n",
       "    <tr>\n",
       "      <th>Department</th>\n",
       "      <th>Gender</th>\n",
       "      <th></th>\n",
       "      <th></th>\n",
       "      <th></th>\n",
       "    </tr>\n",
       "  </thead>\n",
       "  <tbody>\n",
       "    <tr>\n",
       "      <th rowspan=\"2\" valign=\"top\">HR</th>\n",
       "      <th>F</th>\n",
       "      <td>55000.0</td>\n",
       "      <td>55000</td>\n",
       "      <td>55000</td>\n",
       "    </tr>\n",
       "    <tr>\n",
       "      <th>M</th>\n",
       "      <td>50000.0</td>\n",
       "      <td>50000</td>\n",
       "      <td>50000</td>\n",
       "    </tr>\n",
       "    <tr>\n",
       "      <th rowspan=\"2\" valign=\"top\">IT</th>\n",
       "      <th>F</th>\n",
       "      <td>62000.0</td>\n",
       "      <td>62000</td>\n",
       "      <td>62000</td>\n",
       "    </tr>\n",
       "    <tr>\n",
       "      <th>M</th>\n",
       "      <td>60000.0</td>\n",
       "      <td>60000</td>\n",
       "      <td>60000</td>\n",
       "    </tr>\n",
       "    <tr>\n",
       "      <th rowspan=\"2\" valign=\"top\">SALES</th>\n",
       "      <th>F</th>\n",
       "      <td>61000.0</td>\n",
       "      <td>61000</td>\n",
       "      <td>61000</td>\n",
       "    </tr>\n",
       "    <tr>\n",
       "      <th>M</th>\n",
       "      <td>58000.0</td>\n",
       "      <td>58000</td>\n",
       "      <td>58000</td>\n",
       "    </tr>\n",
       "  </tbody>\n",
       "</table>\n",
       "</div>"
      ],
      "text/plain": [
       "                      mean    max    min\n",
       "Department Gender                       \n",
       "HR         F       55000.0  55000  55000\n",
       "           M       50000.0  50000  50000\n",
       "IT         F       62000.0  62000  62000\n",
       "           M       60000.0  60000  60000\n",
       "SALES      F       61000.0  61000  61000\n",
       "           M       58000.0  58000  58000"
      ]
     },
     "execution_count": 68,
     "metadata": {},
     "output_type": "execute_result"
    }
   ],
   "source": [
    "df = pd.DataFrame({\n",
    "    'Department':['HR','HR','IT','IT','SALES','SALES'],\n",
    "    'Gender':['M','F','M','F','M','F'],\n",
    "    'Salary':[50000,55000,60000,62000,58000,61000]\n",
    "})\n",
    "\n",
    "df.groupby(['Department','Gender'])['Salary'].agg(['mean','max','min'])\n"
   ]
  },
  {
   "cell_type": "code",
   "execution_count": 78,
   "metadata": {},
   "outputs": [],
   "source": [
    "df = pd.DataFrame({\n",
    "    'Date':pd.date_range('2023-01-01',periods=6),\n",
    "    'Stock':['AAPL'] * 3 + ['MSFT'] * 3,\n",
    "    'Price':[150,153,155,280,282,285],\n",
    "    'Region':['South','South','North','North','South','North'],\n",
    "    'Product':['Phone','Phone','Phone','Computer','Computer','Computer'],\n",
    "    'Revenue':[10000,23120,30000,15000,12340,21000]\n",
    "})"
   ]
  },
  {
   "cell_type": "code",
   "execution_count": 79,
   "metadata": {},
   "outputs": [],
   "source": [
    "df['RollingAvg'] = df.groupby('Stock')['Price'].rolling(3).mean().reset_index(0,drop=True)"
   ]
  },
  {
   "cell_type": "code",
   "execution_count": 80,
   "metadata": {},
   "outputs": [
    {
     "name": "stdout",
     "output_type": "stream",
     "text": [
      "        Date Stock  Price Region   Product  Revenue  RollingAvg\n",
      "0 2023-01-01  AAPL    150  South     Phone    10000         NaN\n",
      "1 2023-01-02  AAPL    153  South     Phone    23120         NaN\n",
      "2 2023-01-03  AAPL    155  North     Phone    30000  152.666667\n",
      "3 2023-01-04  MSFT    280  North  Computer    15000         NaN\n",
      "4 2023-01-05  MSFT    282  South  Computer    12340         NaN\n",
      "5 2023-01-06  MSFT    285  North  Computer    21000  282.333333\n"
     ]
    }
   ],
   "source": [
    "print(df)"
   ]
  },
  {
   "cell_type": "code",
   "execution_count": 81,
   "metadata": {},
   "outputs": [
    {
     "data": {
      "text/html": [
       "<div>\n",
       "<style scoped>\n",
       "    .dataframe tbody tr th:only-of-type {\n",
       "        vertical-align: middle;\n",
       "    }\n",
       "\n",
       "    .dataframe tbody tr th {\n",
       "        vertical-align: top;\n",
       "    }\n",
       "\n",
       "    .dataframe thead th {\n",
       "        text-align: right;\n",
       "    }\n",
       "</style>\n",
       "<table border=\"1\" class=\"dataframe\">\n",
       "  <thead>\n",
       "    <tr style=\"text-align: right;\">\n",
       "      <th>Product</th>\n",
       "      <th>Computer</th>\n",
       "      <th>Phone</th>\n",
       "    </tr>\n",
       "    <tr>\n",
       "      <th>Region</th>\n",
       "      <th></th>\n",
       "      <th></th>\n",
       "    </tr>\n",
       "  </thead>\n",
       "  <tbody>\n",
       "    <tr>\n",
       "      <th>North</th>\n",
       "      <td>36000</td>\n",
       "      <td>30000</td>\n",
       "    </tr>\n",
       "    <tr>\n",
       "      <th>South</th>\n",
       "      <td>12340</td>\n",
       "      <td>33120</td>\n",
       "    </tr>\n",
       "  </tbody>\n",
       "</table>\n",
       "</div>"
      ],
      "text/plain": [
       "Product  Computer  Phone\n",
       "Region                  \n",
       "North       36000  30000\n",
       "South       12340  33120"
      ]
     },
     "execution_count": 81,
     "metadata": {},
     "output_type": "execute_result"
    }
   ],
   "source": [
    "df.groupby(['Region','Product'])['Revenue'].sum().unstack()"
   ]
  },
  {
   "cell_type": "code",
   "execution_count": 82,
   "metadata": {},
   "outputs": [
    {
     "name": "stderr",
     "output_type": "stream",
     "text": [
      "C:\\Users\\francis\\AppData\\Local\\Temp\\ipykernel_31032\\2591757982.py:7: DeprecationWarning: DataFrameGroupBy.apply operated on the grouping columns. This behavior is deprecated, and in a future version of pandas the grouping columns will be excluded from the operation. Either pass `include_groups=False` to exclude the groupings or explicitly select the grouping columns after groupby to silence this warning.\n",
      "  df.groupby('Region').apply(top_above_avg)\n"
     ]
    },
    {
     "data": {
      "text/html": [
       "<div>\n",
       "<style scoped>\n",
       "    .dataframe tbody tr th:only-of-type {\n",
       "        vertical-align: middle;\n",
       "    }\n",
       "\n",
       "    .dataframe tbody tr th {\n",
       "        vertical-align: top;\n",
       "    }\n",
       "\n",
       "    .dataframe thead th {\n",
       "        text-align: right;\n",
       "    }\n",
       "</style>\n",
       "<table border=\"1\" class=\"dataframe\">\n",
       "  <thead>\n",
       "    <tr style=\"text-align: right;\">\n",
       "      <th></th>\n",
       "      <th></th>\n",
       "      <th>Date</th>\n",
       "      <th>Stock</th>\n",
       "      <th>Price</th>\n",
       "      <th>Region</th>\n",
       "      <th>Product</th>\n",
       "      <th>Revenue</th>\n",
       "      <th>RollingAvg</th>\n",
       "    </tr>\n",
       "    <tr>\n",
       "      <th>Region</th>\n",
       "      <th></th>\n",
       "      <th></th>\n",
       "      <th></th>\n",
       "      <th></th>\n",
       "      <th></th>\n",
       "      <th></th>\n",
       "      <th></th>\n",
       "      <th></th>\n",
       "    </tr>\n",
       "  </thead>\n",
       "  <tbody>\n",
       "    <tr>\n",
       "      <th>North</th>\n",
       "      <th>2</th>\n",
       "      <td>2023-01-03</td>\n",
       "      <td>AAPL</td>\n",
       "      <td>155</td>\n",
       "      <td>North</td>\n",
       "      <td>Phone</td>\n",
       "      <td>30000</td>\n",
       "      <td>152.666667</td>\n",
       "    </tr>\n",
       "    <tr>\n",
       "      <th>South</th>\n",
       "      <th>1</th>\n",
       "      <td>2023-01-02</td>\n",
       "      <td>AAPL</td>\n",
       "      <td>153</td>\n",
       "      <td>South</td>\n",
       "      <td>Phone</td>\n",
       "      <td>23120</td>\n",
       "      <td>NaN</td>\n",
       "    </tr>\n",
       "  </tbody>\n",
       "</table>\n",
       "</div>"
      ],
      "text/plain": [
       "               Date Stock  Price Region Product  Revenue  RollingAvg\n",
       "Region                                                              \n",
       "North  2 2023-01-03  AAPL    155  North   Phone    30000  152.666667\n",
       "South  1 2023-01-02  AAPL    153  South   Phone    23120         NaN"
      ]
     },
     "execution_count": 82,
     "metadata": {},
     "output_type": "execute_result"
    }
   ],
   "source": [
    "def top_above_avg(group):\n",
    "    avg = group['Revenue'].mean()\n",
    "    top = group.loc[group['Revenue'] > avg ]\n",
    "    return top.sort_values(by='Revenue',ascending=False).head(1)\n",
    "\n",
    "\n",
    "df.groupby('Region').apply(top_above_avg)"
   ]
  },
  {
   "cell_type": "code",
   "execution_count": 83,
   "metadata": {},
   "outputs": [],
   "source": [
    "df = pd.DataFrame({\n",
    "    'Class':['A','A','B','B'],\n",
    "    'Student':['X','Y','Z','W'],\n",
    "    'Score':[90,None,85,None]\n",
    "})"
   ]
  },
  {
   "cell_type": "code",
   "execution_count": 86,
   "metadata": {},
   "outputs": [],
   "source": [
    "df['Score_filled'] = df.groupby('Class')['Score'].transform(lambda x: x.fillna(x.mean()))"
   ]
  },
  {
   "cell_type": "code",
   "execution_count": 87,
   "metadata": {},
   "outputs": [
    {
     "name": "stdout",
     "output_type": "stream",
     "text": [
      "  Class Student  Score  Score_filled\n",
      "0     A       X   90.0          90.0\n",
      "1     A       Y    NaN          90.0\n",
      "2     B       Z   85.0          85.0\n",
      "3     B       W    NaN          85.0\n"
     ]
    }
   ],
   "source": [
    "print(df)"
   ]
  },
  {
   "cell_type": "code",
   "execution_count": 88,
   "metadata": {},
   "outputs": [],
   "source": [
    "def min_max(x):\n",
    "    return (x - x.min()) / (x.max() - x.min())"
   ]
  },
  {
   "cell_type": "code",
   "execution_count": 90,
   "metadata": {},
   "outputs": [],
   "source": [
    "df['Normalized'] = df.groupby('Class')['Score'].transform(min_max)"
   ]
  },
  {
   "cell_type": "code",
   "execution_count": 91,
   "metadata": {},
   "outputs": [
    {
     "name": "stdout",
     "output_type": "stream",
     "text": [
      "  Class Student  Score  Score_filled  Normalized\n",
      "0     A       X   90.0          90.0         NaN\n",
      "1     A       Y    NaN          90.0         NaN\n",
      "2     B       Z   85.0          85.0         NaN\n",
      "3     B       W    NaN          85.0         NaN\n"
     ]
    }
   ],
   "source": [
    "print(df)"
   ]
  },
  {
   "cell_type": "code",
   "execution_count": 92,
   "metadata": {},
   "outputs": [],
   "source": [
    "df = pd.DataFrame({\n",
    "    'Campaign':['A','A','B','B','A','C'],\n",
    "    'UserID':[101,102,103,104,101,105]\n",
    "})"
   ]
  },
  {
   "cell_type": "code",
   "execution_count": 93,
   "metadata": {},
   "outputs": [
    {
     "data": {
      "text/plain": [
       "Campaign\n",
       "A    [101, 102]\n",
       "B    [103, 104]\n",
       "C         [105]\n",
       "Name: UserID, dtype: object"
      ]
     },
     "execution_count": 93,
     "metadata": {},
     "output_type": "execute_result"
    }
   ],
   "source": [
    "df.groupby('Campaign')['UserID'].unique()"
   ]
  },
  {
   "cell_type": "code",
   "execution_count": 94,
   "metadata": {},
   "outputs": [],
   "source": [
    "df = pd.DataFrame({\n",
    "    'ProductID':[1,1,2,2,3],\n",
    "    'Returned':[0,1,1,0,0]\n",
    "})"
   ]
  },
  {
   "cell_type": "code",
   "execution_count": 95,
   "metadata": {},
   "outputs": [
    {
     "data": {
      "text/plain": [
       "ProductID\n",
       "1    0.5\n",
       "2    0.5\n",
       "3    0.0\n",
       "Name: Returned, dtype: float64"
      ]
     },
     "execution_count": 95,
     "metadata": {},
     "output_type": "execute_result"
    }
   ],
   "source": [
    "df.groupby('ProductID')['Returned'].mean()"
   ]
  },
  {
   "cell_type": "code",
   "execution_count": 96,
   "metadata": {},
   "outputs": [],
   "source": [
    "df = pd.DataFrame({\n",
    "    'Team':['Red','Red','Blue','Blue','Green','Red','Blue'],\n",
    "    'Player':['A','B','C','D','E','F','G'],\n",
    "    'Score':[10,15,20,18,5,25,30]\n",
    "})"
   ]
  },
  {
   "cell_type": "code",
   "execution_count": 97,
   "metadata": {},
   "outputs": [],
   "source": [
    "filtered = df.groupby('Team').filter(lambda g: len(g) >= 3)"
   ]
  },
  {
   "cell_type": "code",
   "execution_count": 98,
   "metadata": {},
   "outputs": [],
   "source": [
    "result = filtered.groupby('Team')['Score'].sum()"
   ]
  },
  {
   "cell_type": "code",
   "execution_count": 99,
   "metadata": {},
   "outputs": [
    {
     "name": "stdout",
     "output_type": "stream",
     "text": [
      "   Team Player  Score\n",
      "0   Red      A     10\n",
      "1   Red      B     15\n",
      "2  Blue      C     20\n",
      "3  Blue      D     18\n",
      "5   Red      F     25\n",
      "6  Blue      G     30\n",
      "Team\n",
      "Blue    68\n",
      "Red     50\n",
      "Name: Score, dtype: int64\n"
     ]
    }
   ],
   "source": [
    "print(filtered)\n",
    "print(result)"
   ]
  },
  {
   "cell_type": "code",
   "execution_count": 100,
   "metadata": {},
   "outputs": [],
   "source": [
    "df['Rank'] = df.groupby('Team')['Score'].rank(method='min',ascending=False)"
   ]
  },
  {
   "cell_type": "code",
   "execution_count": 101,
   "metadata": {},
   "outputs": [
    {
     "name": "stdout",
     "output_type": "stream",
     "text": [
      "    Team Player  Score  Rank\n",
      "0    Red      A     10   3.0\n",
      "1    Red      B     15   2.0\n",
      "2   Blue      C     20   2.0\n",
      "3   Blue      D     18   3.0\n",
      "4  Green      E      5   1.0\n",
      "5    Red      F     25   1.0\n",
      "6   Blue      G     30   1.0\n"
     ]
    }
   ],
   "source": [
    "print(df)"
   ]
  },
  {
   "cell_type": "code",
   "execution_count": 103,
   "metadata": {},
   "outputs": [
    {
     "name": "stderr",
     "output_type": "stream",
     "text": [
      "C:\\Users\\francis\\AppData\\Local\\Temp\\ipykernel_31032\\2141195168.py:9: DeprecationWarning: DataFrameGroupBy.apply operated on the grouping columns. This behavior is deprecated, and in a future version of pandas the grouping columns will be excluded from the operation. Either pass `include_groups=False` to exclude the groupings or explicitly select the grouping columns after groupby to silence this warning.\n",
      "  df.groupby('Student').apply(lambda g: (g['Score'] * g['credits']).sum() / g['credits'].sum())\n"
     ]
    },
    {
     "data": {
      "text/plain": [
       "Student\n",
       "Alice    82.0\n",
       "Bob      92.0\n",
       "dtype: float64"
      ]
     },
     "execution_count": 103,
     "metadata": {},
     "output_type": "execute_result"
    }
   ],
   "source": [
    "df = pd.DataFrame({\n",
    "    'Student':['Alice','Bob','Alice','Bob'],\n",
    "    'Subject':['Math','Math','English','English'],\n",
    "    'Score':[80,90,85,95],\n",
    "    'credits':[3,3,2,2]\n",
    "})\n",
    "\n",
    "\n",
    "df.groupby('Student').apply(lambda g: (g['Score'] * g['credits']).sum() / g['credits'].sum())"
   ]
  },
  {
   "cell_type": "code",
   "execution_count": 104,
   "metadata": {},
   "outputs": [],
   "source": [
    "df = pd.DataFrame({\n",
    "    'UserID':[1,1,2,2],\n",
    "    'OrderID':['A1','A2','B1','B2'],\n",
    "    'Amount':[50,100,30,70]\n",
    "})"
   ]
  },
  {
   "cell_type": "code",
   "execution_count": 105,
   "metadata": {},
   "outputs": [
    {
     "name": "stderr",
     "output_type": "stream",
     "text": [
      "C:\\Users\\francis\\AppData\\Local\\Temp\\ipykernel_31032\\507754941.py:1: DeprecationWarning: DataFrameGroupBy.apply operated on the grouping columns. This behavior is deprecated, and in a future version of pandas the grouping columns will be excluded from the operation. Either pass `include_groups=False` to exclude the groupings or explicitly select the grouping columns after groupby to silence this warning.\n",
      "  grouped = df.groupby('UserID').apply(\n"
     ]
    }
   ],
   "source": [
    "grouped = df.groupby('UserID').apply(\n",
    "    lambda x: x[['OrderID','Amount']].to_dict('records')\n",
    ").to_dict()"
   ]
  },
  {
   "cell_type": "code",
   "execution_count": 107,
   "metadata": {},
   "outputs": [
    {
     "name": "stdout",
     "output_type": "stream",
     "text": [
      "{1: [{'OrderID': 'A1', 'Amount': 50}, {'OrderID': 'A2', 'Amount': 100}], 2: [{'OrderID': 'B1', 'Amount': 30}, {'OrderID': 'B2', 'Amount': 70}]}\n"
     ]
    }
   ],
   "source": [
    "print(grouped)"
   ]
  },
  {
   "cell_type": "code",
   "execution_count": 109,
   "metadata": {},
   "outputs": [],
   "source": [
    "df = pd.DataFrame({\n",
    "    'UserID':[1,1,2,2,2],\n",
    "    'IP': ['10.0.0.1', '10.0.0.1', '10.0.0.2', '10.0.0.3', '10.0.0.2']\n",
    "})\n",
    "\n",
    "df['is_duplicate'] = df.duplicated(subset=['UserID','IP'])"
   ]
  },
  {
   "cell_type": "code",
   "execution_count": 110,
   "metadata": {},
   "outputs": [
    {
     "name": "stdout",
     "output_type": "stream",
     "text": [
      "   UserID        IP  is_duplicate\n",
      "0       1  10.0.0.1         False\n",
      "1       1  10.0.0.1          True\n",
      "2       2  10.0.0.2         False\n",
      "3       2  10.0.0.3         False\n",
      "4       2  10.0.0.2          True\n"
     ]
    }
   ],
   "source": [
    "print(df)"
   ]
  }
 ],
 "metadata": {
  "kernelspec": {
   "display_name": "Python 3",
   "language": "python",
   "name": "python3"
  },
  "language_info": {
   "codemirror_mode": {
    "name": "ipython",
    "version": 3
   },
   "file_extension": ".py",
   "mimetype": "text/x-python",
   "name": "python",
   "nbconvert_exporter": "python",
   "pygments_lexer": "ipython3",
   "version": "3.12.3"
  }
 },
 "nbformat": 4,
 "nbformat_minor": 2
}
