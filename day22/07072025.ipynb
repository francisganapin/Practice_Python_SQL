{
 "cells": [
  {
   "cell_type": "code",
   "execution_count": 1,
   "metadata": {},
   "outputs": [],
   "source": [
    "import pandas as pd\n",
    "\n",
    "df = pd.DataFrame({\n",
    "    'Date': pd.date_range(start='2024-01-01', periods=8, freq='D'),\n",
    "    'Region': ['North', 'North', 'South', 'South', 'East', 'East', 'West', 'West'],\n",
    "    'Salesperson': ['Alice', 'Bob', 'Charlie', 'Dave', 'Ella', 'Frank', 'Grace', 'Hannah'],\n",
    "    'Product': ['A', 'A', 'B', 'B', 'A', 'B', 'A', 'B'],\n",
    "    'Units': [10, 15, 20, 5, 30, 25, 8, 12],\n",
    "    'Price': [100, 100, 200, 200, 100, 200, 100, 200]\n",
    "})\n"
   ]
  },
  {
   "cell_type": "code",
   "execution_count": 2,
   "metadata": {},
   "outputs": [],
   "source": [
    "df['Revenue'] = df['Units'] * df['Price']"
   ]
  },
  {
   "cell_type": "code",
   "execution_count": 4,
   "metadata": {},
   "outputs": [],
   "source": [
    "result = df.groupby(['Region','Product']).agg(\n",
    "    Total_Units=('Units','sum'),\n",
    "    Total_Revenue=('Revenue','sum'),\n",
    "    Avg_Unit_Price=('Price','mean')\n",
    "    )"
   ]
  },
  {
   "cell_type": "code",
   "execution_count": 5,
   "metadata": {},
   "outputs": [
    {
     "name": "stdout",
     "output_type": "stream",
     "text": [
      "                Total_Units  Total_Revenue  Avg_Unit_Price\n",
      "Region Product                                            \n",
      "East   A                 30           3000           100.0\n",
      "       B                 25           5000           200.0\n",
      "North  A                 25           2500           100.0\n",
      "South  B                 25           5000           200.0\n",
      "West   A                  8            800           100.0\n",
      "       B                 12           2400           200.0\n"
     ]
    }
   ],
   "source": [
    "print(result)"
   ]
  },
  {
   "cell_type": "code",
   "execution_count": 6,
   "metadata": {},
   "outputs": [
    {
     "data": {
      "text/html": [
       "<div>\n",
       "<style scoped>\n",
       "    .dataframe tbody tr th:only-of-type {\n",
       "        vertical-align: middle;\n",
       "    }\n",
       "\n",
       "    .dataframe tbody tr th {\n",
       "        vertical-align: top;\n",
       "    }\n",
       "\n",
       "    .dataframe thead tr th {\n",
       "        text-align: left;\n",
       "    }\n",
       "\n",
       "    .dataframe thead tr:last-of-type th {\n",
       "        text-align: right;\n",
       "    }\n",
       "</style>\n",
       "<table border=\"1\" class=\"dataframe\">\n",
       "  <thead>\n",
       "    <tr>\n",
       "      <th></th>\n",
       "      <th colspan=\"3\" halign=\"left\">Revenue</th>\n",
       "    </tr>\n",
       "    <tr>\n",
       "      <th></th>\n",
       "      <th>sum</th>\n",
       "      <th>mean</th>\n",
       "      <th>&lt;lambda_0&gt;</th>\n",
       "    </tr>\n",
       "    <tr>\n",
       "      <th>Region</th>\n",
       "      <th></th>\n",
       "      <th></th>\n",
       "      <th></th>\n",
       "    </tr>\n",
       "  </thead>\n",
       "  <tbody>\n",
       "    <tr>\n",
       "      <th>East</th>\n",
       "      <td>8000</td>\n",
       "      <td>4000.0</td>\n",
       "      <td>2000</td>\n",
       "    </tr>\n",
       "    <tr>\n",
       "      <th>North</th>\n",
       "      <td>2500</td>\n",
       "      <td>1250.0</td>\n",
       "      <td>500</td>\n",
       "    </tr>\n",
       "    <tr>\n",
       "      <th>South</th>\n",
       "      <td>5000</td>\n",
       "      <td>2500.0</td>\n",
       "      <td>3000</td>\n",
       "    </tr>\n",
       "    <tr>\n",
       "      <th>West</th>\n",
       "      <td>3200</td>\n",
       "      <td>1600.0</td>\n",
       "      <td>1600</td>\n",
       "    </tr>\n",
       "  </tbody>\n",
       "</table>\n",
       "</div>"
      ],
      "text/plain": [
       "       Revenue                   \n",
       "           sum    mean <lambda_0>\n",
       "Region                           \n",
       "East      8000  4000.0       2000\n",
       "North     2500  1250.0        500\n",
       "South     5000  2500.0       3000\n",
       "West      3200  1600.0       1600"
      ]
     },
     "execution_count": 6,
     "metadata": {},
     "output_type": "execute_result"
    }
   ],
   "source": [
    "df.groupby('Region').agg({\n",
    "    'Revenue':['sum','mean',lambda x: x.max() - x.min()]\n",
    "})"
   ]
  },
  {
   "cell_type": "code",
   "execution_count": 7,
   "metadata": {},
   "outputs": [],
   "source": [
    "def commission(row):\n",
    "    if row['Product'] == 'A':\n",
    "        return row['Revenue'] * 0.1\n",
    "    else:\n",
    "        return row['Revenue'] * 0.2"
   ]
  },
  {
   "cell_type": "code",
   "execution_count": 12,
   "metadata": {},
   "outputs": [],
   "source": [
    "df['Commission'] = df.apply(commission,axis=1)"
   ]
  },
  {
   "cell_type": "code",
   "execution_count": null,
   "metadata": {},
   "outputs": [],
   "source": [
    "def commission(row):\n",
    "    if row['Product'] == 'A':\n",
    "        return row['Revenue'] * 0.1\n",
    "    else:\n",
    "        return row['Revenue'] * 0.2\n",
    "\n",
    "df['Commission'] = df.apply(commission, axis=1)\n"
   ]
  },
  {
   "cell_type": "code",
   "execution_count": 13,
   "metadata": {},
   "outputs": [],
   "source": [
    "df['Rolling_3day_Revenue'] = df['Revenue'].rolling(window=3).mean()"
   ]
  },
  {
   "cell_type": "code",
   "execution_count": 14,
   "metadata": {},
   "outputs": [],
   "source": [
    "pivot = df.pivot_table(index='Region',columns='Product',values='Revenue',aggfunc='sum')"
   ]
  },
  {
   "cell_type": "code",
   "execution_count": 15,
   "metadata": {},
   "outputs": [
    {
     "name": "stdout",
     "output_type": "stream",
     "text": [
      "Product       A       B\n",
      "Region                 \n",
      "East     3000.0  5000.0\n",
      "North    2500.0     NaN\n",
      "South       NaN  5000.0\n",
      "West      800.0  2400.0\n"
     ]
    }
   ],
   "source": [
    "print(pivot)"
   ]
  },
  {
   "cell_type": "code",
   "execution_count": 16,
   "metadata": {},
   "outputs": [],
   "source": [
    "melted = df.melt(id_vars=['Date','Region'],value_vars=['Units','Revenue'])"
   ]
  },
  {
   "cell_type": "code",
   "execution_count": 17,
   "metadata": {},
   "outputs": [
    {
     "name": "stdout",
     "output_type": "stream",
     "text": [
      "         Date Region variable  value\n",
      "0  2024-01-01  North    Units     10\n",
      "1  2024-01-02  North    Units     15\n",
      "2  2024-01-03  South    Units     20\n",
      "3  2024-01-04  South    Units      5\n",
      "4  2024-01-05   East    Units     30\n",
      "5  2024-01-06   East    Units     25\n",
      "6  2024-01-07   West    Units      8\n",
      "7  2024-01-08   West    Units     12\n",
      "8  2024-01-01  North  Revenue   1000\n",
      "9  2024-01-02  North  Revenue   1500\n",
      "10 2024-01-03  South  Revenue   4000\n",
      "11 2024-01-04  South  Revenue   1000\n",
      "12 2024-01-05   East  Revenue   3000\n",
      "13 2024-01-06   East  Revenue   5000\n",
      "14 2024-01-07   West  Revenue    800\n",
      "15 2024-01-08   West  Revenue   2400\n"
     ]
    }
   ],
   "source": [
    "print(melted)"
   ]
  },
  {
   "cell_type": "code",
   "execution_count": 20,
   "metadata": {},
   "outputs": [
    {
     "ename": "ValueError",
     "evalue": "Index contains duplicate entries, cannot reshape",
     "output_type": "error",
     "traceback": [
      "\u001b[31m---------------------------------------------------------------------------\u001b[39m",
      "\u001b[31mValueError\u001b[39m                                Traceback (most recent call last)",
      "\u001b[36mCell\u001b[39m\u001b[36m \u001b[39m\u001b[32mIn[20]\u001b[39m\u001b[32m, line 1\u001b[39m\n\u001b[32m----> \u001b[39m\u001b[32m1\u001b[39m stacked = \u001b[43mdf\u001b[49m\u001b[43m.\u001b[49m\u001b[43mset_index\u001b[49m\u001b[43m(\u001b[49m\u001b[43m[\u001b[49m\u001b[33;43m'\u001b[39;49m\u001b[33;43mRegion\u001b[39;49m\u001b[33;43m'\u001b[39;49m\u001b[43m,\u001b[49m\u001b[33;43m'\u001b[39;49m\u001b[33;43mProduct\u001b[39;49m\u001b[33;43m'\u001b[39;49m\u001b[43m]\u001b[49m\u001b[43m)\u001b[49m\u001b[43m[\u001b[49m\u001b[43m[\u001b[49m\u001b[33;43m'\u001b[39;49m\u001b[33;43mRevenue\u001b[39;49m\u001b[33;43m'\u001b[39;49m\u001b[43m]\u001b[49m\u001b[43m]\u001b[49m\u001b[43m.\u001b[49m\u001b[43munstack\u001b[49m\u001b[43m(\u001b[49m\u001b[43m)\u001b[49m\n",
      "\u001b[36mFile \u001b[39m\u001b[32mc:\\Users\\francis\\AppData\\Local\\Programs\\Python\\Python312\\Lib\\site-packages\\pandas\\core\\frame.py:9928\u001b[39m, in \u001b[36mDataFrame.unstack\u001b[39m\u001b[34m(self, level, fill_value, sort)\u001b[39m\n\u001b[32m   9864\u001b[39m \u001b[38;5;250m\u001b[39m\u001b[33;03m\"\"\"\u001b[39;00m\n\u001b[32m   9865\u001b[39m \u001b[33;03mPivot a level of the (necessarily hierarchical) index labels.\u001b[39;00m\n\u001b[32m   9866\u001b[39m \n\u001b[32m   (...)\u001b[39m\u001b[32m   9924\u001b[39m \u001b[33;03mdtype: float64\u001b[39;00m\n\u001b[32m   9925\u001b[39m \u001b[33;03m\"\"\"\u001b[39;00m\n\u001b[32m   9926\u001b[39m \u001b[38;5;28;01mfrom\u001b[39;00m \u001b[34;01mpandas\u001b[39;00m\u001b[34;01m.\u001b[39;00m\u001b[34;01mcore\u001b[39;00m\u001b[34;01m.\u001b[39;00m\u001b[34;01mreshape\u001b[39;00m\u001b[34;01m.\u001b[39;00m\u001b[34;01mreshape\u001b[39;00m \u001b[38;5;28;01mimport\u001b[39;00m unstack\n\u001b[32m-> \u001b[39m\u001b[32m9928\u001b[39m result = \u001b[43munstack\u001b[49m\u001b[43m(\u001b[49m\u001b[38;5;28;43mself\u001b[39;49m\u001b[43m,\u001b[49m\u001b[43m \u001b[49m\u001b[43mlevel\u001b[49m\u001b[43m,\u001b[49m\u001b[43m \u001b[49m\u001b[43mfill_value\u001b[49m\u001b[43m,\u001b[49m\u001b[43m \u001b[49m\u001b[43msort\u001b[49m\u001b[43m)\u001b[49m\n\u001b[32m   9930\u001b[39m \u001b[38;5;28;01mreturn\u001b[39;00m result.__finalize__(\u001b[38;5;28mself\u001b[39m, method=\u001b[33m\"\u001b[39m\u001b[33munstack\u001b[39m\u001b[33m\"\u001b[39m)\n",
      "\u001b[36mFile \u001b[39m\u001b[32mc:\\Users\\francis\\AppData\\Local\\Programs\\Python\\Python312\\Lib\\site-packages\\pandas\\core\\reshape\\reshape.py:504\u001b[39m, in \u001b[36munstack\u001b[39m\u001b[34m(obj, level, fill_value, sort)\u001b[39m\n\u001b[32m    502\u001b[39m \u001b[38;5;28;01mif\u001b[39;00m \u001b[38;5;28misinstance\u001b[39m(obj, DataFrame):\n\u001b[32m    503\u001b[39m     \u001b[38;5;28;01mif\u001b[39;00m \u001b[38;5;28misinstance\u001b[39m(obj.index, MultiIndex):\n\u001b[32m--> \u001b[39m\u001b[32m504\u001b[39m         \u001b[38;5;28;01mreturn\u001b[39;00m \u001b[43m_unstack_frame\u001b[49m\u001b[43m(\u001b[49m\u001b[43mobj\u001b[49m\u001b[43m,\u001b[49m\u001b[43m \u001b[49m\u001b[43mlevel\u001b[49m\u001b[43m,\u001b[49m\u001b[43m \u001b[49m\u001b[43mfill_value\u001b[49m\u001b[43m=\u001b[49m\u001b[43mfill_value\u001b[49m\u001b[43m,\u001b[49m\u001b[43m \u001b[49m\u001b[43msort\u001b[49m\u001b[43m=\u001b[49m\u001b[43msort\u001b[49m\u001b[43m)\u001b[49m\n\u001b[32m    505\u001b[39m     \u001b[38;5;28;01melse\u001b[39;00m:\n\u001b[32m    506\u001b[39m         \u001b[38;5;28;01mreturn\u001b[39;00m obj.T.stack(future_stack=\u001b[38;5;28;01mTrue\u001b[39;00m)\n",
      "\u001b[36mFile \u001b[39m\u001b[32mc:\\Users\\francis\\AppData\\Local\\Programs\\Python\\Python312\\Lib\\site-packages\\pandas\\core\\reshape\\reshape.py:529\u001b[39m, in \u001b[36m_unstack_frame\u001b[39m\u001b[34m(obj, level, fill_value, sort)\u001b[39m\n\u001b[32m    525\u001b[39m \u001b[38;5;28;01mdef\u001b[39;00m \u001b[34m_unstack_frame\u001b[39m(\n\u001b[32m    526\u001b[39m     obj: DataFrame, level, fill_value=\u001b[38;5;28;01mNone\u001b[39;00m, sort: \u001b[38;5;28mbool\u001b[39m = \u001b[38;5;28;01mTrue\u001b[39;00m\n\u001b[32m    527\u001b[39m ) -> DataFrame:\n\u001b[32m    528\u001b[39m     \u001b[38;5;28;01massert\u001b[39;00m \u001b[38;5;28misinstance\u001b[39m(obj.index, MultiIndex)  \u001b[38;5;66;03m# checked by caller\u001b[39;00m\n\u001b[32m--> \u001b[39m\u001b[32m529\u001b[39m     unstacker = \u001b[43m_Unstacker\u001b[49m\u001b[43m(\u001b[49m\n\u001b[32m    530\u001b[39m \u001b[43m        \u001b[49m\u001b[43mobj\u001b[49m\u001b[43m.\u001b[49m\u001b[43mindex\u001b[49m\u001b[43m,\u001b[49m\u001b[43m \u001b[49m\u001b[43mlevel\u001b[49m\u001b[43m=\u001b[49m\u001b[43mlevel\u001b[49m\u001b[43m,\u001b[49m\u001b[43m \u001b[49m\u001b[43mconstructor\u001b[49m\u001b[43m=\u001b[49m\u001b[43mobj\u001b[49m\u001b[43m.\u001b[49m\u001b[43m_constructor\u001b[49m\u001b[43m,\u001b[49m\u001b[43m \u001b[49m\u001b[43msort\u001b[49m\u001b[43m=\u001b[49m\u001b[43msort\u001b[49m\n\u001b[32m    531\u001b[39m \u001b[43m    \u001b[49m\u001b[43m)\u001b[49m\n\u001b[32m    533\u001b[39m     \u001b[38;5;28;01mif\u001b[39;00m \u001b[38;5;129;01mnot\u001b[39;00m obj._can_fast_transpose:\n\u001b[32m    534\u001b[39m         mgr = obj._mgr.unstack(unstacker, fill_value=fill_value)\n",
      "\u001b[36mFile \u001b[39m\u001b[32mc:\\Users\\francis\\AppData\\Local\\Programs\\Python\\Python312\\Lib\\site-packages\\pandas\\core\\reshape\\reshape.py:154\u001b[39m, in \u001b[36m_Unstacker.__init__\u001b[39m\u001b[34m(self, index, level, constructor, sort)\u001b[39m\n\u001b[32m    146\u001b[39m \u001b[38;5;28;01mif\u001b[39;00m num_cells > np.iinfo(np.int32).max:\n\u001b[32m    147\u001b[39m     warnings.warn(\n\u001b[32m    148\u001b[39m         \u001b[33mf\u001b[39m\u001b[33m\"\u001b[39m\u001b[33mThe following operation may generate \u001b[39m\u001b[38;5;132;01m{\u001b[39;00mnum_cells\u001b[38;5;132;01m}\u001b[39;00m\u001b[33m cells \u001b[39m\u001b[33m\"\u001b[39m\n\u001b[32m    149\u001b[39m         \u001b[33mf\u001b[39m\u001b[33m\"\u001b[39m\u001b[33min the resulting pandas object.\u001b[39m\u001b[33m\"\u001b[39m,\n\u001b[32m    150\u001b[39m         PerformanceWarning,\n\u001b[32m    151\u001b[39m         stacklevel=find_stack_level(),\n\u001b[32m    152\u001b[39m     )\n\u001b[32m--> \u001b[39m\u001b[32m154\u001b[39m \u001b[38;5;28;43mself\u001b[39;49m\u001b[43m.\u001b[49m\u001b[43m_make_selectors\u001b[49m\u001b[43m(\u001b[49m\u001b[43m)\u001b[49m\n",
      "\u001b[36mFile \u001b[39m\u001b[32mc:\\Users\\francis\\AppData\\Local\\Programs\\Python\\Python312\\Lib\\site-packages\\pandas\\core\\reshape\\reshape.py:210\u001b[39m, in \u001b[36m_Unstacker._make_selectors\u001b[39m\u001b[34m(self)\u001b[39m\n\u001b[32m    207\u001b[39m mask.put(selector, \u001b[38;5;28;01mTrue\u001b[39;00m)\n\u001b[32m    209\u001b[39m \u001b[38;5;28;01mif\u001b[39;00m mask.sum() < \u001b[38;5;28mlen\u001b[39m(\u001b[38;5;28mself\u001b[39m.index):\n\u001b[32m--> \u001b[39m\u001b[32m210\u001b[39m     \u001b[38;5;28;01mraise\u001b[39;00m \u001b[38;5;167;01mValueError\u001b[39;00m(\u001b[33m\"\u001b[39m\u001b[33mIndex contains duplicate entries, cannot reshape\u001b[39m\u001b[33m\"\u001b[39m)\n\u001b[32m    212\u001b[39m \u001b[38;5;28mself\u001b[39m.group_index = comp_index\n\u001b[32m    213\u001b[39m \u001b[38;5;28mself\u001b[39m.mask = mask\n",
      "\u001b[31mValueError\u001b[39m: Index contains duplicate entries, cannot reshape"
     ]
    }
   ],
   "source": [
    "stacked = df.set_index(['Region','Product'])[['Revenue']].unstack()"
   ]
  },
  {
   "cell_type": "code",
   "execution_count": 21,
   "metadata": {},
   "outputs": [],
   "source": [
    "df['Month'] = df['Date'].dt.month"
   ]
  },
  {
   "cell_type": "code",
   "execution_count": 22,
   "metadata": {},
   "outputs": [
    {
     "name": "stdout",
     "output_type": "stream",
     "text": [
      "        Date Region Salesperson Product  Units  Price  Revenue  Commission  \\\n",
      "0 2024-01-01  North       Alice       A     10    100     1000       100.0   \n",
      "1 2024-01-02  North         Bob       A     15    100     1500       150.0   \n",
      "2 2024-01-03  South     Charlie       B     20    200     4000       800.0   \n",
      "3 2024-01-04  South        Dave       B      5    200     1000       200.0   \n",
      "4 2024-01-05   East        Ella       A     30    100     3000       300.0   \n",
      "5 2024-01-06   East       Frank       B     25    200     5000      1000.0   \n",
      "6 2024-01-07   West       Grace       A      8    100      800        80.0   \n",
      "7 2024-01-08   West      Hannah       B     12    200     2400       480.0   \n",
      "\n",
      "   Rolling_3day_Revenue  Month  \n",
      "0                   NaN      1  \n",
      "1                   NaN      1  \n",
      "2           2166.666667      1  \n",
      "3           2166.666667      1  \n",
      "4           2666.666667      1  \n",
      "5           3000.000000      1  \n",
      "6           2933.333333      1  \n",
      "7           2733.333333      1  \n"
     ]
    }
   ],
   "source": [
    "print(df)"
   ]
  },
  {
   "cell_type": "code",
   "execution_count": 23,
   "metadata": {},
   "outputs": [
    {
     "data": {
      "text/html": [
       "<div>\n",
       "<style scoped>\n",
       "    .dataframe tbody tr th:only-of-type {\n",
       "        vertical-align: middle;\n",
       "    }\n",
       "\n",
       "    .dataframe tbody tr th {\n",
       "        vertical-align: top;\n",
       "    }\n",
       "\n",
       "    .dataframe thead th {\n",
       "        text-align: right;\n",
       "    }\n",
       "</style>\n",
       "<table border=\"1\" class=\"dataframe\">\n",
       "  <thead>\n",
       "    <tr style=\"text-align: right;\">\n",
       "      <th></th>\n",
       "      <th>Units</th>\n",
       "      <th>Price</th>\n",
       "      <th>Revenue</th>\n",
       "      <th>Commission</th>\n",
       "      <th>Rolling_3day_Revenue</th>\n",
       "      <th>Month</th>\n",
       "    </tr>\n",
       "    <tr>\n",
       "      <th>Date</th>\n",
       "      <th></th>\n",
       "      <th></th>\n",
       "      <th></th>\n",
       "      <th></th>\n",
       "      <th></th>\n",
       "      <th></th>\n",
       "    </tr>\n",
       "  </thead>\n",
       "  <tbody>\n",
       "    <tr>\n",
       "      <th>2024-01-07</th>\n",
       "      <td>113</td>\n",
       "      <td>1000</td>\n",
       "      <td>16300</td>\n",
       "      <td>2630.0</td>\n",
       "      <td>12933.333333</td>\n",
       "      <td>7</td>\n",
       "    </tr>\n",
       "    <tr>\n",
       "      <th>2024-01-14</th>\n",
       "      <td>12</td>\n",
       "      <td>200</td>\n",
       "      <td>2400</td>\n",
       "      <td>480.0</td>\n",
       "      <td>2733.333333</td>\n",
       "      <td>1</td>\n",
       "    </tr>\n",
       "  </tbody>\n",
       "</table>\n",
       "</div>"
      ],
      "text/plain": [
       "            Units  Price  Revenue  Commission  Rolling_3day_Revenue  Month\n",
       "Date                                                                      \n",
       "2024-01-07    113   1000    16300      2630.0          12933.333333      7\n",
       "2024-01-14     12    200     2400       480.0           2733.333333      1"
      ]
     },
     "execution_count": 23,
     "metadata": {},
     "output_type": "execute_result"
    }
   ],
   "source": [
    "df.set_index('Date').resample('W').sum(numeric_only=True)"
   ]
  },
  {
   "cell_type": "code",
   "execution_count": 25,
   "metadata": {},
   "outputs": [
    {
     "data": {
      "text/html": [
       "<div>\n",
       "<style scoped>\n",
       "    .dataframe tbody tr th:only-of-type {\n",
       "        vertical-align: middle;\n",
       "    }\n",
       "\n",
       "    .dataframe tbody tr th {\n",
       "        vertical-align: top;\n",
       "    }\n",
       "\n",
       "    .dataframe thead tr th {\n",
       "        text-align: left;\n",
       "    }\n",
       "\n",
       "    .dataframe thead tr:last-of-type th {\n",
       "        text-align: right;\n",
       "    }\n",
       "</style>\n",
       "<table border=\"1\" class=\"dataframe\">\n",
       "  <thead>\n",
       "    <tr>\n",
       "      <th></th>\n",
       "      <th colspan=\"2\" halign=\"left\">Units</th>\n",
       "      <th colspan=\"2\" halign=\"left\">Revenue</th>\n",
       "    </tr>\n",
       "    <tr>\n",
       "      <th></th>\n",
       "      <th>sum</th>\n",
       "      <th>mean</th>\n",
       "      <th>sum</th>\n",
       "      <th>&lt;lambda_0&gt;</th>\n",
       "    </tr>\n",
       "    <tr>\n",
       "      <th>Region</th>\n",
       "      <th></th>\n",
       "      <th></th>\n",
       "      <th></th>\n",
       "      <th></th>\n",
       "    </tr>\n",
       "  </thead>\n",
       "  <tbody>\n",
       "    <tr>\n",
       "      <th>East</th>\n",
       "      <td>55</td>\n",
       "      <td>27.5</td>\n",
       "      <td>8000</td>\n",
       "      <td>2000</td>\n",
       "    </tr>\n",
       "    <tr>\n",
       "      <th>North</th>\n",
       "      <td>25</td>\n",
       "      <td>12.5</td>\n",
       "      <td>2500</td>\n",
       "      <td>500</td>\n",
       "    </tr>\n",
       "    <tr>\n",
       "      <th>South</th>\n",
       "      <td>25</td>\n",
       "      <td>12.5</td>\n",
       "      <td>5000</td>\n",
       "      <td>3000</td>\n",
       "    </tr>\n",
       "    <tr>\n",
       "      <th>West</th>\n",
       "      <td>20</td>\n",
       "      <td>10.0</td>\n",
       "      <td>3200</td>\n",
       "      <td>1600</td>\n",
       "    </tr>\n",
       "  </tbody>\n",
       "</table>\n",
       "</div>"
      ],
      "text/plain": [
       "       Units       Revenue           \n",
       "         sum  mean     sum <lambda_0>\n",
       "Region                               \n",
       "East      55  27.5    8000       2000\n",
       "North     25  12.5    2500        500\n",
       "South     25  12.5    5000       3000\n",
       "West      20  10.0    3200       1600"
      ]
     },
     "execution_count": 25,
     "metadata": {},
     "output_type": "execute_result"
    }
   ],
   "source": [
    "df.groupby('Region').agg({\n",
    "    'Units':['sum','mean'],\n",
    "    'Revenue':['sum',lambda x: x.max() - x.min()]\n",
    "})"
   ]
  },
  {
   "cell_type": "code",
   "execution_count": 26,
   "metadata": {},
   "outputs": [],
   "source": [
    "import pandas as pd\n",
    "import numpy as np\n",
    "\n",
    "df = pd.DataFrame({\n",
    "    'Product': ['A', 'A', 'B', 'B', 'A', 'B', 'A', 'B'],\n",
    "    'Units': [10, 15, 20, 5, 30, 25, 8, 12],\n",
    "    'Price': [100, 100, 200, 200, 100, 200, 100, 200],\n",
    "    'Region': ['North', 'North', 'South', 'South', 'East', 'East', 'West', 'West']\n",
    "})"
   ]
  },
  {
   "cell_type": "code",
   "execution_count": 27,
   "metadata": {},
   "outputs": [],
   "source": [
    "df['Revenue'] = df['Units'] * df['Price']"
   ]
  },
  {
   "cell_type": "code",
   "execution_count": 28,
   "metadata": {},
   "outputs": [
    {
     "name": "stdout",
     "output_type": "stream",
     "text": [
      "  Product  Units  Price Region  Revenue\n",
      "0       A     10    100  North     1000\n",
      "1       A     15    100  North     1500\n",
      "2       B     20    200  South     4000\n",
      "3       B      5    200  South     1000\n",
      "4       A     30    100   East     3000\n",
      "5       B     25    200   East     5000\n",
      "6       A      8    100   West      800\n",
      "7       B     12    200   West     2400\n"
     ]
    }
   ],
   "source": [
    "print(df)"
   ]
  },
  {
   "cell_type": "code",
   "execution_count": 31,
   "metadata": {},
   "outputs": [],
   "source": [
    "df['Discount'] = np.where(df['Units'] > 20,0.1,0.05)"
   ]
  },
  {
   "cell_type": "code",
   "execution_count": 32,
   "metadata": {},
   "outputs": [
    {
     "name": "stdout",
     "output_type": "stream",
     "text": [
      "  Product  Units  Price Region  Revenue  Discount\n",
      "0       A     10    100  North     1000      0.05\n",
      "1       A     15    100  North     1500      0.05\n",
      "2       B     20    200  South     4000      0.05\n",
      "3       B      5    200  South     1000      0.05\n",
      "4       A     30    100   East     3000      0.10\n",
      "5       B     25    200   East     5000      0.10\n",
      "6       A      8    100   West      800      0.05\n",
      "7       B     12    200   West     2400      0.05\n"
     ]
    }
   ],
   "source": [
    "print(df)"
   ]
  },
  {
   "cell_type": "code",
   "execution_count": 33,
   "metadata": {},
   "outputs": [],
   "source": [
    "df['Revenue_After_Discount'] = df['Revenue'] * (1-df['Discount'])"
   ]
  },
  {
   "cell_type": "code",
   "execution_count": 34,
   "metadata": {},
   "outputs": [
    {
     "name": "stdout",
     "output_type": "stream",
     "text": [
      "  Product  Units  Price Region  Revenue  Discount  Revenue_After_Discount\n",
      "0       A     10    100  North     1000      0.05                   950.0\n",
      "1       A     15    100  North     1500      0.05                  1425.0\n",
      "2       B     20    200  South     4000      0.05                  3800.0\n",
      "3       B      5    200  South     1000      0.05                   950.0\n",
      "4       A     30    100   East     3000      0.10                  2700.0\n",
      "5       B     25    200   East     5000      0.10                  4500.0\n",
      "6       A      8    100   West      800      0.05                   760.0\n",
      "7       B     12    200   West     2400      0.05                  2280.0\n"
     ]
    }
   ],
   "source": [
    "print(df)"
   ]
  },
  {
   "cell_type": "code",
   "execution_count": null,
   "metadata": {},
   "outputs": [
    {
     "ename": "TypeError",
     "evalue": "Choicelist and default value do not have a common dtype: The DType <class 'numpy.dtypes._PyLongDType'> could not be promoted by <class 'numpy.dtypes.StrDType'>. This means that no common DType exists for the given inputs. For example they cannot be stored in a single array unless the dtype is `object`. The full list of DTypes is: (<class 'numpy.dtypes.StrDType'>, <class 'numpy.dtypes.StrDType'>, <class 'numpy.dtypes.StrDType'>, <class 'numpy.dtypes._PyLongDType'>)",
     "output_type": "error",
     "traceback": [
      "\u001b[31m---------------------------------------------------------------------------\u001b[39m",
      "\u001b[31mTypeError\u001b[39m                                 Traceback (most recent call last)",
      "\u001b[36mCell\u001b[39m\u001b[36m \u001b[39m\u001b[32mIn[41]\u001b[39m\u001b[32m, line 8\u001b[39m\n\u001b[32m      1\u001b[39m conditions = [\n\u001b[32m      2\u001b[39m     (df[\u001b[33m'\u001b[39m\u001b[33mUnits\u001b[39m\u001b[33m'\u001b[39m] >= \u001b[32m25\u001b[39m),\n\u001b[32m      3\u001b[39m     (df[\u001b[33m'\u001b[39m\u001b[33mUnits\u001b[39m\u001b[33m'\u001b[39m] >= \u001b[32m10\u001b[39m) & (df[\u001b[33m'\u001b[39m\u001b[33mUnits\u001b[39m\u001b[33m'\u001b[39m] < \u001b[32m25\u001b[39m),\n\u001b[32m      4\u001b[39m     (df[\u001b[33m'\u001b[39m\u001b[33mUnits\u001b[39m\u001b[33m'\u001b[39m] < \u001b[32m10\u001b[39m)\n\u001b[32m      5\u001b[39m ]\n\u001b[32m      6\u001b[39m choices = [\u001b[33m'\u001b[39m\u001b[33mHigh\u001b[39m\u001b[33m'\u001b[39m, \u001b[33m'\u001b[39m\u001b[33mMedium\u001b[39m\u001b[33m'\u001b[39m, \u001b[33m'\u001b[39m\u001b[33mLow\u001b[39m\u001b[33m'\u001b[39m]\n\u001b[32m----> \u001b[39m\u001b[32m8\u001b[39m df[\u001b[33m'\u001b[39m\u001b[33mDemand_Level\u001b[39m\u001b[33m'\u001b[39m] = \u001b[43mnp\u001b[49m\u001b[43m.\u001b[49m\u001b[43mselect\u001b[49m\u001b[43m(\u001b[49m\u001b[43mconditions\u001b[49m\u001b[43m,\u001b[49m\u001b[43m \u001b[49m\u001b[43mchoices\u001b[49m\u001b[43m)\u001b[49m\n",
      "\u001b[36mFile \u001b[39m\u001b[32mc:\\Users\\francis\\AppData\\Local\\Programs\\Python\\Python312\\Lib\\site-packages\\numpy\\lib\\_function_base_impl.py:861\u001b[39m, in \u001b[36mselect\u001b[39m\u001b[34m(condlist, choicelist, default)\u001b[39m\n\u001b[32m    859\u001b[39m \u001b[38;5;28;01mexcept\u001b[39;00m \u001b[38;5;167;01mTypeError\u001b[39;00m \u001b[38;5;28;01mas\u001b[39;00m e:\n\u001b[32m    860\u001b[39m     msg = \u001b[33mf\u001b[39m\u001b[33m'\u001b[39m\u001b[33mChoicelist and default value do not have a common dtype: \u001b[39m\u001b[38;5;132;01m{\u001b[39;00me\u001b[38;5;132;01m}\u001b[39;00m\u001b[33m'\u001b[39m\n\u001b[32m--> \u001b[39m\u001b[32m861\u001b[39m     \u001b[38;5;28;01mraise\u001b[39;00m \u001b[38;5;167;01mTypeError\u001b[39;00m(msg) \u001b[38;5;28;01mfrom\u001b[39;00m \u001b[38;5;28;01mNone\u001b[39;00m\n\u001b[32m    863\u001b[39m \u001b[38;5;66;03m# Convert conditions to arrays and broadcast conditions and choices\u001b[39;00m\n\u001b[32m    864\u001b[39m \u001b[38;5;66;03m# as the shape is needed for the result. Doing it separately optimizes\u001b[39;00m\n\u001b[32m    865\u001b[39m \u001b[38;5;66;03m# for example when all choices are scalars.\u001b[39;00m\n\u001b[32m    866\u001b[39m condlist = np.broadcast_arrays(*condlist)\n",
      "\u001b[31mTypeError\u001b[39m: Choicelist and default value do not have a common dtype: The DType <class 'numpy.dtypes._PyLongDType'> could not be promoted by <class 'numpy.dtypes.StrDType'>. This means that no common DType exists for the given inputs. For example they cannot be stored in a single array unless the dtype is `object`. The full list of DTypes is: (<class 'numpy.dtypes.StrDType'>, <class 'numpy.dtypes.StrDType'>, <class 'numpy.dtypes.StrDType'>, <class 'numpy.dtypes._PyLongDType'>)"
     ]
    }
   ],
   "source": [
    "conditions = [\n",
    "    (df['Units'] >= 25),\n",
    "    (df['Units'] >= 10) & (df['Units'] < 25),\n",
    "    (df['Units'] < 10)\n",
    "]"
   ]
  },
  {
   "cell_type": "code",
   "execution_count": 38,
   "metadata": {},
   "outputs": [],
   "source": [
    "choices = ['High','Medium','Low']"
   ]
  },
  {
   "cell_type": "code",
   "execution_count": 40,
   "metadata": {},
   "outputs": [
    {
     "ename": "TypeError",
     "evalue": "Choicelist and default value do not have a common dtype: The DType <class 'numpy.dtypes._PyLongDType'> could not be promoted by <class 'numpy.dtypes.StrDType'>. This means that no common DType exists for the given inputs. For example they cannot be stored in a single array unless the dtype is `object`. The full list of DTypes is: (<class 'numpy.dtypes.StrDType'>, <class 'numpy.dtypes.StrDType'>, <class 'numpy.dtypes.StrDType'>, <class 'numpy.dtypes._PyLongDType'>)",
     "output_type": "error",
     "traceback": [
      "\u001b[31m---------------------------------------------------------------------------\u001b[39m",
      "\u001b[31mTypeError\u001b[39m                                 Traceback (most recent call last)",
      "\u001b[36mCell\u001b[39m\u001b[36m \u001b[39m\u001b[32mIn[40]\u001b[39m\u001b[32m, line 1\u001b[39m\n\u001b[32m----> \u001b[39m\u001b[32m1\u001b[39m df[\u001b[33m'\u001b[39m\u001b[33mDemand_Level\u001b[39m\u001b[33m'\u001b[39m] = \u001b[43mnp\u001b[49m\u001b[43m.\u001b[49m\u001b[43mselect\u001b[49m\u001b[43m(\u001b[49m\u001b[43mconditions\u001b[49m\u001b[43m,\u001b[49m\u001b[43mchoices\u001b[49m\u001b[43m)\u001b[49m\n",
      "\u001b[36mFile \u001b[39m\u001b[32mc:\\Users\\francis\\AppData\\Local\\Programs\\Python\\Python312\\Lib\\site-packages\\numpy\\lib\\_function_base_impl.py:861\u001b[39m, in \u001b[36mselect\u001b[39m\u001b[34m(condlist, choicelist, default)\u001b[39m\n\u001b[32m    859\u001b[39m \u001b[38;5;28;01mexcept\u001b[39;00m \u001b[38;5;167;01mTypeError\u001b[39;00m \u001b[38;5;28;01mas\u001b[39;00m e:\n\u001b[32m    860\u001b[39m     msg = \u001b[33mf\u001b[39m\u001b[33m'\u001b[39m\u001b[33mChoicelist and default value do not have a common dtype: \u001b[39m\u001b[38;5;132;01m{\u001b[39;00me\u001b[38;5;132;01m}\u001b[39;00m\u001b[33m'\u001b[39m\n\u001b[32m--> \u001b[39m\u001b[32m861\u001b[39m     \u001b[38;5;28;01mraise\u001b[39;00m \u001b[38;5;167;01mTypeError\u001b[39;00m(msg) \u001b[38;5;28;01mfrom\u001b[39;00m \u001b[38;5;28;01mNone\u001b[39;00m\n\u001b[32m    863\u001b[39m \u001b[38;5;66;03m# Convert conditions to arrays and broadcast conditions and choices\u001b[39;00m\n\u001b[32m    864\u001b[39m \u001b[38;5;66;03m# as the shape is needed for the result. Doing it separately optimizes\u001b[39;00m\n\u001b[32m    865\u001b[39m \u001b[38;5;66;03m# for example when all choices are scalars.\u001b[39;00m\n\u001b[32m    866\u001b[39m condlist = np.broadcast_arrays(*condlist)\n",
      "\u001b[31mTypeError\u001b[39m: Choicelist and default value do not have a common dtype: The DType <class 'numpy.dtypes._PyLongDType'> could not be promoted by <class 'numpy.dtypes.StrDType'>. This means that no common DType exists for the given inputs. For example they cannot be stored in a single array unless the dtype is `object`. The full list of DTypes is: (<class 'numpy.dtypes.StrDType'>, <class 'numpy.dtypes.StrDType'>, <class 'numpy.dtypes.StrDType'>, <class 'numpy.dtypes._PyLongDType'>)"
     ]
    }
   ],
   "source": [
    "df['Demand_Level'] = np.select(conditions,choices)"
   ]
  },
  {
   "cell_type": "code",
   "execution_count": 1,
   "metadata": {},
   "outputs": [],
   "source": [
    "import pandas as pd\n",
    "import numpy as np\n",
    "\n",
    "df = pd.DataFrame({\n",
    "    'Product': ['A', 'A', 'B', 'B', 'A', 'B', 'A', 'B'],\n",
    "    'Units': [10, 15, 20, 5, 30, 25, 8, 12],\n",
    "    'Price': [100, 100, 200, 200, 100, 200, 100, 200],\n",
    "    'Region': ['North', 'North', 'South', 'South', 'East', 'East', 'West', 'West']\n",
    "})\n",
    "df['Revenue'] = df['Units'] * df['Price']\n"
   ]
  },
  {
   "cell_type": "code",
   "execution_count": 2,
   "metadata": {},
   "outputs": [],
   "source": [
    "df['Discount'] = np.where(df['Units'] > 20, 0.1, 0.05)\n",
    "df['Revenue_After_Discount'] = df['Revenue'] * (1 - df['Discount'])\n"
   ]
  },
  {
   "cell_type": "code",
   "execution_count": 3,
   "metadata": {},
   "outputs": [
    {
     "ename": "TypeError",
     "evalue": "Choicelist and default value do not have a common dtype: The DType <class 'numpy.dtypes._PyLongDType'> could not be promoted by <class 'numpy.dtypes.StrDType'>. This means that no common DType exists for the given inputs. For example they cannot be stored in a single array unless the dtype is `object`. The full list of DTypes is: (<class 'numpy.dtypes.StrDType'>, <class 'numpy.dtypes.StrDType'>, <class 'numpy.dtypes.StrDType'>, <class 'numpy.dtypes._PyLongDType'>)",
     "output_type": "error",
     "traceback": [
      "\u001b[31m---------------------------------------------------------------------------\u001b[39m",
      "\u001b[31mTypeError\u001b[39m                                 Traceback (most recent call last)",
      "\u001b[36mCell\u001b[39m\u001b[36m \u001b[39m\u001b[32mIn[3]\u001b[39m\u001b[32m, line 8\u001b[39m\n\u001b[32m      1\u001b[39m conditions = [\n\u001b[32m      2\u001b[39m     (df[\u001b[33m'\u001b[39m\u001b[33mUnits\u001b[39m\u001b[33m'\u001b[39m] >= \u001b[32m25\u001b[39m),\n\u001b[32m      3\u001b[39m     (df[\u001b[33m'\u001b[39m\u001b[33mUnits\u001b[39m\u001b[33m'\u001b[39m] >= \u001b[32m10\u001b[39m) & (df[\u001b[33m'\u001b[39m\u001b[33mUnits\u001b[39m\u001b[33m'\u001b[39m] < \u001b[32m25\u001b[39m),\n\u001b[32m      4\u001b[39m     (df[\u001b[33m'\u001b[39m\u001b[33mUnits\u001b[39m\u001b[33m'\u001b[39m] < \u001b[32m10\u001b[39m)\n\u001b[32m      5\u001b[39m ]\n\u001b[32m      6\u001b[39m choices = [\u001b[33m'\u001b[39m\u001b[33mHigh\u001b[39m\u001b[33m'\u001b[39m, \u001b[33m'\u001b[39m\u001b[33mMedium\u001b[39m\u001b[33m'\u001b[39m, \u001b[33m'\u001b[39m\u001b[33mLow\u001b[39m\u001b[33m'\u001b[39m]\n\u001b[32m----> \u001b[39m\u001b[32m8\u001b[39m df[\u001b[33m'\u001b[39m\u001b[33mDemand_Level\u001b[39m\u001b[33m'\u001b[39m] = \u001b[43mnp\u001b[49m\u001b[43m.\u001b[49m\u001b[43mselect\u001b[49m\u001b[43m(\u001b[49m\u001b[43mconditions\u001b[49m\u001b[43m,\u001b[49m\u001b[43m \u001b[49m\u001b[43mchoices\u001b[49m\u001b[43m)\u001b[49m\n",
      "\u001b[36mFile \u001b[39m\u001b[32mc:\\Users\\francis\\AppData\\Local\\Programs\\Python\\Python312\\Lib\\site-packages\\numpy\\lib\\_function_base_impl.py:861\u001b[39m, in \u001b[36mselect\u001b[39m\u001b[34m(condlist, choicelist, default)\u001b[39m\n\u001b[32m    859\u001b[39m \u001b[38;5;28;01mexcept\u001b[39;00m \u001b[38;5;167;01mTypeError\u001b[39;00m \u001b[38;5;28;01mas\u001b[39;00m e:\n\u001b[32m    860\u001b[39m     msg = \u001b[33mf\u001b[39m\u001b[33m'\u001b[39m\u001b[33mChoicelist and default value do not have a common dtype: \u001b[39m\u001b[38;5;132;01m{\u001b[39;00me\u001b[38;5;132;01m}\u001b[39;00m\u001b[33m'\u001b[39m\n\u001b[32m--> \u001b[39m\u001b[32m861\u001b[39m     \u001b[38;5;28;01mraise\u001b[39;00m \u001b[38;5;167;01mTypeError\u001b[39;00m(msg) \u001b[38;5;28;01mfrom\u001b[39;00m \u001b[38;5;28;01mNone\u001b[39;00m\n\u001b[32m    863\u001b[39m \u001b[38;5;66;03m# Convert conditions to arrays and broadcast conditions and choices\u001b[39;00m\n\u001b[32m    864\u001b[39m \u001b[38;5;66;03m# as the shape is needed for the result. Doing it separately optimizes\u001b[39;00m\n\u001b[32m    865\u001b[39m \u001b[38;5;66;03m# for example when all choices are scalars.\u001b[39;00m\n\u001b[32m    866\u001b[39m condlist = np.broadcast_arrays(*condlist)\n",
      "\u001b[31mTypeError\u001b[39m: Choicelist and default value do not have a common dtype: The DType <class 'numpy.dtypes._PyLongDType'> could not be promoted by <class 'numpy.dtypes.StrDType'>. This means that no common DType exists for the given inputs. For example they cannot be stored in a single array unless the dtype is `object`. The full list of DTypes is: (<class 'numpy.dtypes.StrDType'>, <class 'numpy.dtypes.StrDType'>, <class 'numpy.dtypes.StrDType'>, <class 'numpy.dtypes._PyLongDType'>)"
     ]
    }
   ],
   "source": [
    "conditions = [\n",
    "    (df['Units'] >= 25),\n",
    "    (df['Units'] >= 10) & (df['Units'] < 25),\n",
    "    (df['Units'] < 10)\n",
    "]\n",
    "choices = ['High', 'Medium', 'Low']\n",
    "\n",
    "df['Demand_Level'] = np.select(conditions, choices)\n"
   ]
  },
  {
   "cell_type": "code",
   "execution_count": 4,
   "metadata": {},
   "outputs": [],
   "source": [
    "df['Bonus'] = df['Revenue'] * np.where(df['Product'] == 'A',0.05,0.1)"
   ]
  },
  {
   "cell_type": "code",
   "execution_count": 5,
   "metadata": {},
   "outputs": [
    {
     "name": "stdout",
     "output_type": "stream",
     "text": [
      "  Product  Units  Price Region  Revenue  Discount  Revenue_After_Discount  \\\n",
      "0       A     10    100  North     1000      0.05                   950.0   \n",
      "1       A     15    100  North     1500      0.05                  1425.0   \n",
      "2       B     20    200  South     4000      0.05                  3800.0   \n",
      "3       B      5    200  South     1000      0.05                   950.0   \n",
      "4       A     30    100   East     3000      0.10                  2700.0   \n",
      "5       B     25    200   East     5000      0.10                  4500.0   \n",
      "6       A      8    100   West      800      0.05                   760.0   \n",
      "7       B     12    200   West     2400      0.05                  2280.0   \n",
      "\n",
      "   Bonus  \n",
      "0   50.0  \n",
      "1   75.0  \n",
      "2  400.0  \n",
      "3  100.0  \n",
      "4  150.0  \n",
      "5  500.0  \n",
      "6   40.0  \n",
      "7  240.0  \n"
     ]
    }
   ],
   "source": [
    "print(df)"
   ]
  },
  {
   "cell_type": "code",
   "execution_count": 6,
   "metadata": {},
   "outputs": [],
   "source": [
    "np.random.seed(42)"
   ]
  },
  {
   "cell_type": "code",
   "execution_count": 7,
   "metadata": {},
   "outputs": [],
   "source": [
    "df['Simulated_Sales'] = np.random.randint(5,50,size=len(df))"
   ]
  },
  {
   "cell_type": "code",
   "execution_count": 8,
   "metadata": {},
   "outputs": [
    {
     "name": "stdout",
     "output_type": "stream",
     "text": [
      "  Product  Units  Price Region  Revenue  Discount  Revenue_After_Discount  \\\n",
      "0       A     10    100  North     1000      0.05                   950.0   \n",
      "1       A     15    100  North     1500      0.05                  1425.0   \n",
      "2       B     20    200  South     4000      0.05                  3800.0   \n",
      "3       B      5    200  South     1000      0.05                   950.0   \n",
      "4       A     30    100   East     3000      0.10                  2700.0   \n",
      "5       B     25    200   East     5000      0.10                  4500.0   \n",
      "6       A      8    100   West      800      0.05                   760.0   \n",
      "7       B     12    200   West     2400      0.05                  2280.0   \n",
      "\n",
      "   Bonus  Simulated_Sales  \n",
      "0   50.0               43  \n",
      "1   75.0               33  \n",
      "2  400.0               19  \n",
      "3  100.0               47  \n",
      "4  150.0               12  \n",
      "5  500.0               25  \n",
      "6   40.0               43  \n",
      "7  240.0               23  \n"
     ]
    }
   ],
   "source": [
    "print(df)"
   ]
  },
  {
   "cell_type": "code",
   "execution_count": 9,
   "metadata": {},
   "outputs": [],
   "source": [
    "units_prices = df['Units'].values\n",
    "price = df['Price'].values\n",
    "\n",
    "df['Dot_Revenue'] = np.dot(units_prices,price)"
   ]
  },
  {
   "cell_type": "code",
   "execution_count": 10,
   "metadata": {},
   "outputs": [
    {
     "name": "stdout",
     "output_type": "stream",
     "text": [
      "  Product  Units  Price Region  Revenue  Discount  Revenue_After_Discount  \\\n",
      "0       A     10    100  North     1000      0.05                   950.0   \n",
      "1       A     15    100  North     1500      0.05                  1425.0   \n",
      "2       B     20    200  South     4000      0.05                  3800.0   \n",
      "3       B      5    200  South     1000      0.05                   950.0   \n",
      "4       A     30    100   East     3000      0.10                  2700.0   \n",
      "5       B     25    200   East     5000      0.10                  4500.0   \n",
      "6       A      8    100   West      800      0.05                   760.0   \n",
      "7       B     12    200   West     2400      0.05                  2280.0   \n",
      "\n",
      "   Bonus  Simulated_Sales  Dot_Revenue  \n",
      "0   50.0               43        18700  \n",
      "1   75.0               33        18700  \n",
      "2  400.0               19        18700  \n",
      "3  100.0               47        18700  \n",
      "4  150.0               12        18700  \n",
      "5  500.0               25        18700  \n",
      "6   40.0               43        18700  \n",
      "7  240.0               23        18700  \n"
     ]
    }
   ],
   "source": [
    "print(df)"
   ]
  },
  {
   "cell_type": "code",
   "execution_count": 11,
   "metadata": {},
   "outputs": [
    {
     "name": "stdout",
     "output_type": "stream",
     "text": [
      "0:Alice\n",
      "1:Bob\n",
      "2:Charlie\n"
     ]
    }
   ],
   "source": [
    "names = ['Alice','Bob','Charlie']\n",
    "\n",
    "for i,name in enumerate(names):\n",
    "    print(f\"{i}:{name}\")"
   ]
  },
  {
   "cell_type": "code",
   "execution_count": 12,
   "metadata": {},
   "outputs": [
    {
     "name": "stdout",
     "output_type": "stream",
     "text": [
      "alice: 85\n",
      "bob: 90\n",
      "charlie: 88\n"
     ]
    }
   ],
   "source": [
    "names = ['alice','bob','charlie']\n",
    "scores = [85,90,88]\n",
    "\n",
    "for name,score in zip(names,scores):\n",
    "    print(f'{name}: {score}')"
   ]
  },
  {
   "cell_type": "code",
   "execution_count": 13,
   "metadata": {},
   "outputs": [
    {
     "name": "stdout",
     "output_type": "stream",
     "text": [
      "Even found:2\n"
     ]
    }
   ],
   "source": [
    "for n in [2,3,5,6]:\n",
    "    if n % 2 == 0:\n",
    "        print(f\"Even found:{n}\")\n",
    "        break\n",
    "else:\n",
    "    print('No even number found.')"
   ]
  },
  {
   "cell_type": "code",
   "execution_count": 14,
   "metadata": {},
   "outputs": [
    {
     "name": "stdout",
     "output_type": "stream",
     "text": [
      "1 - a\n",
      "2 - b\n",
      "3 - c\n"
     ]
    }
   ],
   "source": [
    "pairs = [(1,'a'),(2,'b'),(3,'c')]\n",
    "\n",
    "\n",
    "for num,char in pairs:\n",
    "    print(f'{num} - {char}')"
   ]
  },
  {
   "cell_type": "code",
   "execution_count": 15,
   "metadata": {},
   "outputs": [],
   "source": [
    "students = [\n",
    "    {'name':'alice','math':85,'eng':90},\n",
    "    {'name':'bob','math':70,'eng':60},\n",
    "    {'name':'charlie','math':95,'eng':100}\n",
    "]"
   ]
  },
  {
   "cell_type": "code",
   "execution_count": 20,
   "metadata": {},
   "outputs": [
    {
     "name": "stdout",
     "output_type": "stream",
     "text": [
      "alice\n",
      "bob\n",
      "charlie\n"
     ]
    }
   ],
   "source": [
    "for item in students:\n",
    "    print(item['name'])"
   ]
  },
  {
   "cell_type": "code",
   "execution_count": 21,
   "metadata": {},
   "outputs": [
    {
     "name": "stdout",
     "output_type": "stream",
     "text": [
      "alice - Math:85, Eng:90\n",
      "bob - Math:70, Eng:60\n",
      "charlie - Math:95, Eng:100\n"
     ]
    }
   ],
   "source": [
    "for students in students:\n",
    "    print(f\"{students['name']} - Math:{students['math']}, Eng:{students['eng']}\")"
   ]
  },
  {
   "cell_type": "code",
   "execution_count": 36,
   "metadata": {},
   "outputs": [
    {
     "ename": "TypeError",
     "evalue": "string indices must be integers, not 'str'",
     "output_type": "error",
     "traceback": [
      "\u001b[31m---------------------------------------------------------------------------\u001b[39m",
      "\u001b[31mTypeError\u001b[39m                                 Traceback (most recent call last)",
      "\u001b[36mCell\u001b[39m\u001b[36m \u001b[39m\u001b[32mIn[36]\u001b[39m\u001b[32m, line 2\u001b[39m\n\u001b[32m      1\u001b[39m \u001b[38;5;28;01mfor\u001b[39;00m student \u001b[38;5;129;01min\u001b[39;00m students:\n\u001b[32m----> \u001b[39m\u001b[32m2\u001b[39m     avg = (\u001b[43mstudent\u001b[49m\u001b[43m[\u001b[49m\u001b[33;43m'\u001b[39;49m\u001b[33;43mmath\u001b[39;49m\u001b[33;43m'\u001b[39;49m\u001b[43m]\u001b[49m + student[\u001b[33m'\u001b[39m\u001b[33meng\u001b[39m\u001b[33m'\u001b[39m]) / \u001b[32m2\u001b[39m\n\u001b[32m      3\u001b[39m     \u001b[38;5;28mprint\u001b[39m(\u001b[33mf\u001b[39m\u001b[33m\"\u001b[39m\u001b[38;5;132;01m{\u001b[39;00mstudent[\u001b[33m'\u001b[39m\u001b[33mname\u001b[39m\u001b[33m'\u001b[39m]\u001b[38;5;132;01m}\u001b[39;00m\u001b[33m -Average:\u001b[39m\u001b[38;5;132;01m{\u001b[39;00mavg\u001b[38;5;132;01m}\u001b[39;00m\u001b[33m\"\u001b[39m)\n",
      "\u001b[31mTypeError\u001b[39m: string indices must be integers, not 'str'"
     ]
    }
   ],
   "source": [
    "for student in students:\n",
    "    avg = (student['math'] + student['eng']) / 2\n",
    "    print(f\"{student['name']} -Average:{avg}\")"
   ]
  },
  {
   "cell_type": "code",
   "execution_count": 37,
   "metadata": {},
   "outputs": [
    {
     "name": "stdout",
     "output_type": "stream",
     "text": [
      "alice - Average: 87.5\n",
      "bob - Average: 65.0\n",
      "charlie - Average: 97.5\n"
     ]
    }
   ],
   "source": [
    "students = [\n",
    "    {'name': 'alice', 'math': 85, 'eng': 90},\n",
    "    {'name': 'bob', 'math': 70, 'eng': 60},\n",
    "    {'name': 'charlie', 'math': 95, 'eng': 100}\n",
    "]\n",
    "\n",
    "for student in students:  # ✅ Correct\n",
    "    avg = (student['math'] + student['eng']) / 2\n",
    "    print(f\"{student['name']} - Average: {avg}\")\n"
   ]
  }
 ],
 "metadata": {
  "kernelspec": {
   "display_name": "Python 3",
   "language": "python",
   "name": "python3"
  },
  "language_info": {
   "codemirror_mode": {
    "name": "ipython",
    "version": 3
   },
   "file_extension": ".py",
   "mimetype": "text/x-python",
   "name": "python",
   "nbconvert_exporter": "python",
   "pygments_lexer": "ipython3",
   "version": "3.12.3"
  }
 },
 "nbformat": 4,
 "nbformat_minor": 2
}
