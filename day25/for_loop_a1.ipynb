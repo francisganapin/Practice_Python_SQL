{
 "cells": [
  {
   "cell_type": "code",
   "execution_count": null,
   "metadata": {},
   "outputs": [],
   "source": [
    "rows = [\n",
    "    {'name':'Phone','stock':12},\n",
    "    {'name':\"Laptop\",\"stock\":0},\n",
    "    {'name':'Mouse','stock':8}\n",
    "    ]"
   ]
  },
  {
   "cell_type": "code",
   "execution_count": 3,
   "metadata": {},
   "outputs": [
    {
     "name": "stdout",
     "output_type": "stream",
     "text": [
      "Laptop is out of stock\n"
     ]
    }
   ],
   "source": [
    "for row in rows:\n",
    "    if row['stock'] == 0:\n",
    "        print(f\"{row['name']} is out of stock\")"
   ]
  },
  {
   "cell_type": "code",
   "execution_count": 7,
   "metadata": {},
   "outputs": [
    {
     "name": "stdout",
     "output_type": "stream",
     "text": [
      "Laptop is out of stock\n",
      "Mouse is out of stock\n"
     ]
    }
   ],
   "source": [
    "out_of_stock = [row['name'] for row in rows if row['stock'] == 0]\n",
    "\n",
    "for item in out_of_stock:\n",
    "    print(f'{item} is out of stock')"
   ]
  },
  {
   "cell_type": "code",
   "execution_count": 8,
   "metadata": {},
   "outputs": [
    {
     "name": "stdout",
     "output_type": "stream",
     "text": [
      "['Laptop', 'Mouse'] is out of stock\n"
     ]
    }
   ],
   "source": [
    "out_of_stock = [row['name'] for  row in rows if row['stock'] == 0]\n",
    "\n",
    "out_of_stock_holder = []\n",
    "\n",
    "\n",
    "for item in out_of_stock:\n",
    "    out_of_stock_holder.append(item)\n",
    "\n",
    "print(f'{out_of_stock_holder} is out of stock')"
   ]
  },
  {
   "cell_type": "code",
   "execution_count": 10,
   "metadata": {},
   "outputs": [
    {
     "name": "stdout",
     "output_type": "stream",
     "text": [
      "Some products are out of stock\n"
     ]
    }
   ],
   "source": [
    "if any(row['stock'] == 0 for row in rows):\n",
    "    print('Some products are out of stock')"
   ]
  },
  {
   "cell_type": "code",
   "execution_count": 11,
   "metadata": {},
   "outputs": [],
   "source": [
    "if all(row['stock'] == 0 for row in rows):\n",
    "    print('All product are out of stock')"
   ]
  },
  {
   "cell_type": "code",
   "execution_count": 14,
   "metadata": {},
   "outputs": [
    {
     "name": "stdout",
     "output_type": "stream",
     "text": [
      "Phone is out of stock in warehouse 1\n",
      "Laptop is out of stock in warehouse 0\n",
      "Laptop is out of stock in warehouse 1\n"
     ]
    }
   ],
   "source": [
    "rows = [\n",
    "    {\"name\":\"Phone\",\"stock\":[12,0]},\n",
    "    {\"name\":\"Laptop\",\"stock\":[0,0]},\n",
    "    {\"name\":\"Mouse\",\"stock\":[8,2]},\n",
    "]\n",
    "\n",
    "\n",
    "for row in rows:\n",
    "    for idx,stock in enumerate(row['stock']):\n",
    "        if stock ==0:\n",
    "             print(f\"{row['name']} is out of stock in warehouse {idx}\")"
   ]
  },
  {
   "cell_type": "code",
   "execution_count": null,
   "metadata": {},
   "outputs": [
    {
     "ename": "TypeError",
     "evalue": "type dict doesn't define __round__ method",
     "output_type": "error",
     "traceback": [
      "\u001b[1;31m---------------------------------------------------------------------------\u001b[0m",
      "\u001b[1;31mTypeError\u001b[0m                                 Traceback (most recent call last)",
      "Cell \u001b[1;32mIn[17], line 3\u001b[0m\n\u001b[0;32m      1\u001b[0m prices \u001b[38;5;241m=\u001b[39m { \u001b[38;5;124m'\u001b[39m\u001b[38;5;124mapple\u001b[39m\u001b[38;5;124m'\u001b[39m:\u001b[38;5;241m0.40\u001b[39m,\u001b[38;5;124m'\u001b[39m\u001b[38;5;124mbanana\u001b[39m\u001b[38;5;124m'\u001b[39m:\u001b[38;5;241m0.5\u001b[39m,\u001b[38;5;124m'\u001b[39m\u001b[38;5;124mcherry\u001b[39m\u001b[38;5;124m'\u001b[39m:\u001b[38;5;241m0.25\u001b[39m }\n\u001b[0;32m      2\u001b[0m discounted \u001b[38;5;241m=\u001b[39m {key: value \u001b[38;5;241m*\u001b[39m \u001b[38;5;241m0.9\u001b[39m \u001b[38;5;28;01mfor\u001b[39;00m key, value \u001b[38;5;129;01min\u001b[39;00m prices\u001b[38;5;241m.\u001b[39mitems()}\n\u001b[1;32m----> 3\u001b[0m \u001b[38;5;28mprint\u001b[39m(\u001b[38;5;28mround\u001b[39m(discounted))\n",
      "\u001b[1;31mTypeError\u001b[0m: type dict doesn't define __round__ method"
     ]
    }
   ],
   "source": [
    "prices = { 'apple':0.40,'banana':0.5,'cherry':0.25 }\n",
    "discounted = {key: value * 0.9 for key, value in prices.items()}\n",
    "print(discounted)"
   ]
  },
  {
   "cell_type": "code",
   "execution_count": 21,
   "metadata": {},
   "outputs": [
    {
     "name": "stdout",
     "output_type": "stream",
     "text": [
      "apple: $0.4\n",
      "banana: $0.5\n",
      "cherry: $0.25\n"
     ]
    }
   ],
   "source": [
    "names  = ['apple','banana','cherry']\n",
    "prices = [0.4,0.5,0.25]\n",
    "for name, price in zip(names,prices):\n",
    "    print(f\"{name}: ${price}\")"
   ]
  },
  {
   "cell_type": "code",
   "execution_count": 22,
   "metadata": {},
   "outputs": [
    {
     "name": "stdout",
     "output_type": "stream",
     "text": [
      "[4, 16, 36]\n"
     ]
    }
   ],
   "source": [
    "nums = [1,2,3,4,5,6]\n",
    "even_squares = [n**2 for n in nums if n % 2 == 0]\n",
    "print(even_squares)"
   ]
  },
  {
   "cell_type": "code",
   "execution_count": 23,
   "metadata": {},
   "outputs": [
    {
     "name": "stdout",
     "output_type": "stream",
     "text": [
      "[{'name': 'phone', 'stock': 12}, {'name': 'laptop', 'stock': 8}, {'name': 'Mouse', 'stock': 6}]\n"
     ]
    }
   ],
   "source": [
    "products = [\n",
    "    {'name':'phone','stock':0},\n",
    "    {'name':'laptop','stock':0},\n",
    "    {'name':'Mouse','stock':0}\n",
    "]\n",
    "new_stock = [12,8,6]\n",
    "\n",
    "for product,new_stock in zip(products,new_stock):\n",
    "    if new_stock > 0:\n",
    "        product['stock'] = new_stock\n",
    "\n",
    "\n",
    "print(products)"
   ]
  },
  {
   "cell_type": "code",
   "execution_count": 24,
   "metadata": {},
   "outputs": [
    {
     "name": "stdout",
     "output_type": "stream",
     "text": [
      "Total stock for Phone:15\n",
      "Total stock for Laptop:2\n",
      "Total stock for Mouse:13\n"
     ]
    }
   ],
   "source": [
    "warehouse1 = [12,0,8]\n",
    "warehouse2 = [3,2,5]\n",
    "\n",
    "products = ['Phone','Laptop','Mouse']\n",
    "\n",
    "for product, s1,s2 in zip(products,warehouse1,warehouse2):\n",
    "    total = s1 + s2\n",
    "    print(f'Total stock for {product}:{total}')"
   ]
  },
  {
   "cell_type": "code",
   "execution_count": null,
   "metadata": {},
   "outputs": [],
   "source": [
    "transactions = [100,-50,-34,50,120]\n",
    "balance = sum(transactions)\n",
    "\n",
    "if balance < 0:\n",
    "    print('Alert:Negative Balance')\n",
    "else:\n",
    "    print(f'current balance was {balance}')"
   ]
  }
 ],
 "metadata": {
  "kernelspec": {
   "display_name": "base",
   "language": "python",
   "name": "python3"
  },
  "language_info": {
   "codemirror_mode": {
    "name": "ipython",
    "version": 3
   },
   "file_extension": ".py",
   "mimetype": "text/x-python",
   "name": "python",
   "nbconvert_exporter": "python",
   "pygments_lexer": "ipython3",
   "version": "3.11.7"
  }
 },
 "nbformat": 4,
 "nbformat_minor": 2
}
