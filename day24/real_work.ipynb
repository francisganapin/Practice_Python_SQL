{
 "cells": [
  {
   "cell_type": "code",
   "execution_count": 1,
   "metadata": {},
   "outputs": [
    {
     "name": "stdout",
     "output_type": "stream",
     "text": [
      "[0, 4, 16, 36, 64]\n"
     ]
    }
   ],
   "source": [
    "squared = [x*x for x in range(10) if x % 2 == 0]\n",
    "print(squared)"
   ]
  },
  {
   "cell_type": "code",
   "execution_count": 2,
   "metadata": {},
   "outputs": [
    {
     "name": "stdout",
     "output_type": "stream",
     "text": [
      "{0: 1, 64: 1, 4: 1, 36: 1, 16: 1}\n"
     ]
    }
   ],
   "source": [
    "freq = {x: squared.count(x) for x in set(squared) }\n",
    "print(freq)"
   ]
  },
  {
   "cell_type": "code",
   "execution_count": 6,
   "metadata": {},
   "outputs": [
    {
     "name": "stdout",
     "output_type": "stream",
     "text": [
      "<generator object <genexpr> at 0x000002022B130C70>\n"
     ]
    }
   ],
   "source": [
    "gen = (x*x for x in range(1000000))\n",
    "print(gen)"
   ]
  },
  {
   "cell_type": "code",
   "execution_count": 7,
   "metadata": {},
   "outputs": [
    {
     "name": "stdout",
     "output_type": "stream",
     "text": [
      "1: Alice has score 85\n",
      "2: Bob has score 91\n",
      "3: Carol has score 78\n"
     ]
    }
   ],
   "source": [
    "names = ['Alice','Bob','Carol']\n",
    "scores = [85,91,78]\n",
    "\n",
    "for i, (name,score) in enumerate(zip(names,scores),start=1):\n",
    "    print(f'{i}: {name} has score {score}')"
   ]
  }
 ],
 "metadata": {
  "kernelspec": {
   "display_name": "base",
   "language": "python",
   "name": "python3"
  },
  "language_info": {
   "codemirror_mode": {
    "name": "ipython",
    "version": 3
   },
   "file_extension": ".py",
   "mimetype": "text/x-python",
   "name": "python",
   "nbconvert_exporter": "python",
   "pygments_lexer": "ipython3",
   "version": "3.11.7"
  }
 },
 "nbformat": 4,
 "nbformat_minor": 2
}
